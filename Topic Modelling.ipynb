{
 "cells": [
  {
   "cell_type": "markdown",
   "id": "380af85f",
   "metadata": {},
   "source": [
    "Topic Modeling"
   ]
  },
  {
   "cell_type": "code",
   "execution_count": 1,
   "id": "0982bffa",
   "metadata": {},
   "outputs": [],
   "source": [
    "# Libraries\n",
    "\n",
    "import pandas as pd\n",
    "import numpy as np"
   ]
  },
  {
   "cell_type": "code",
   "execution_count": 2,
   "id": "b48306c9",
   "metadata": {},
   "outputs": [
    {
     "data": {
      "text/html": [
       "<div>\n",
       "<style scoped>\n",
       "    .dataframe tbody tr th:only-of-type {\n",
       "        vertical-align: middle;\n",
       "    }\n",
       "\n",
       "    .dataframe tbody tr th {\n",
       "        vertical-align: top;\n",
       "    }\n",
       "\n",
       "    .dataframe thead th {\n",
       "        text-align: right;\n",
       "    }\n",
       "</style>\n",
       "<table border=\"1\" class=\"dataframe\">\n",
       "  <thead>\n",
       "    <tr style=\"text-align: right;\">\n",
       "      <th></th>\n",
       "      <th>year</th>\n",
       "      <th>header</th>\n",
       "      <th>information</th>\n",
       "      <th>speech</th>\n",
       "      <th>name</th>\n",
       "      <th>link</th>\n",
       "    </tr>\n",
       "  </thead>\n",
       "  <tbody>\n",
       "    <tr>\n",
       "      <th>0</th>\n",
       "      <td>2023</td>\n",
       "      <td>Remarks by OPEC Secretary General</td>\n",
       "      <td>Delivered by HE Haitham Al Ghais, OPEC Secreta...</td>\n",
       "      <td>Your Excellency Mr. Chairman, Excellencies, la...</td>\n",
       "      <td>HE Haitham Al Ghais</td>\n",
       "      <td>https://www.opec.org/opec_web/en/press_room/71...</td>\n",
       "    </tr>\n",
       "    <tr>\n",
       "      <th>1</th>\n",
       "      <td>2023</td>\n",
       "      <td>Address by OPEC Secretary General</td>\n",
       "      <td>Delivered by HE Haitham Al Ghais, OPEC Secreta...</td>\n",
       "      <td>Honourable Prime Minister, Excellencies, ladie...</td>\n",
       "      <td>HE Haitham Al Ghais</td>\n",
       "      <td>https://www.opec.org/opec_web/en/press_room/71...</td>\n",
       "    </tr>\n",
       "    <tr>\n",
       "      <th>2</th>\n",
       "      <td>2023</td>\n",
       "      <td>Address by OPEC Secretary General</td>\n",
       "      <td>Delivered by HE Haitham Al Ghais, OPEC Secreta...</td>\n",
       "      <td>Your Highness, Excellencies, Distinguished gue...</td>\n",
       "      <td>HE Haitham Al Ghais</td>\n",
       "      <td>https://www.opec.org/opec_web/en/press_room/71...</td>\n",
       "    </tr>\n",
       "    <tr>\n",
       "      <th>3</th>\n",
       "      <td>2022</td>\n",
       "      <td>OPEC Statement to the UN Climate Change Confer...</td>\n",
       "      <td>Delivered by HE Haitham Al Ghais, OPEC Secreta...</td>\n",
       "      <td>Madame President, distinguished delegates, Th...</td>\n",
       "      <td>HE Haitham Al Ghais</td>\n",
       "      <td>https://www.opec.org/opec_web/en/press_room/70...</td>\n",
       "    </tr>\n",
       "    <tr>\n",
       "      <th>4</th>\n",
       "      <td>2022</td>\n",
       "      <td>Keynote address by OPEC Secretary General</td>\n",
       "      <td>Delivered by HE Mohammad Sanusi Barkindo, OPEC...</td>\n",
       "      <td>Excellencies, ladies and gentlemen,\\n\\n It is ...</td>\n",
       "      <td>HE Mohammad Sanusi Barkindo</td>\n",
       "      <td>https://www.opec.org/opec_web/en/press_room/69...</td>\n",
       "    </tr>\n",
       "  </tbody>\n",
       "</table>\n",
       "</div>"
      ],
      "text/plain": [
       "   year                                             header  \\\n",
       "0  2023                  Remarks by OPEC Secretary General   \n",
       "1  2023                  Address by OPEC Secretary General   \n",
       "2  2023                  Address by OPEC Secretary General   \n",
       "3  2022  OPEC Statement to the UN Climate Change Confer...   \n",
       "4  2022          Keynote address by OPEC Secretary General   \n",
       "\n",
       "                                         information  \\\n",
       "0  Delivered by HE Haitham Al Ghais, OPEC Secreta...   \n",
       "1  Delivered by HE Haitham Al Ghais, OPEC Secreta...   \n",
       "2  Delivered by HE Haitham Al Ghais, OPEC Secreta...   \n",
       "3  Delivered by HE Haitham Al Ghais, OPEC Secreta...   \n",
       "4  Delivered by HE Mohammad Sanusi Barkindo, OPEC...   \n",
       "\n",
       "                                              speech  \\\n",
       "0  Your Excellency Mr. Chairman, Excellencies, la...   \n",
       "1  Honourable Prime Minister, Excellencies, ladie...   \n",
       "2  Your Highness, Excellencies, Distinguished gue...   \n",
       "3   Madame President, distinguished delegates, Th...   \n",
       "4  Excellencies, ladies and gentlemen,\\n\\n It is ...   \n",
       "\n",
       "                          name  \\\n",
       "0          HE Haitham Al Ghais   \n",
       "1          HE Haitham Al Ghais   \n",
       "2          HE Haitham Al Ghais   \n",
       "3          HE Haitham Al Ghais   \n",
       "4  HE Mohammad Sanusi Barkindo   \n",
       "\n",
       "                                                link  \n",
       "0  https://www.opec.org/opec_web/en/press_room/71...  \n",
       "1  https://www.opec.org/opec_web/en/press_room/71...  \n",
       "2  https://www.opec.org/opec_web/en/press_room/71...  \n",
       "3  https://www.opec.org/opec_web/en/press_room/70...  \n",
       "4  https://www.opec.org/opec_web/en/press_room/69...  "
      ]
     },
     "execution_count": 2,
     "metadata": {},
     "output_type": "execute_result"
    }
   ],
   "source": [
    "# Importing data\n",
    "\n",
    "data = pd.read_csv('speeches.csv')\n",
    "data.head()"
   ]
  },
  {
   "cell_type": "code",
   "execution_count": null,
   "id": "30b2652a",
   "metadata": {},
   "outputs": [],
   "source": []
  },
  {
   "cell_type": "markdown",
   "id": "5dcc3f66",
   "metadata": {},
   "source": [
    "Corpus"
   ]
  },
  {
   "cell_type": "code",
   "execution_count": 6,
   "id": "6cdc1369",
   "metadata": {
    "scrolled": true
   },
   "outputs": [],
   "source": [
    "# Corpus\n",
    "\n",
    "corpus = []\n",
    "\n",
    "for index, row in data.iterrows():\n",
    "    corpus.append({\n",
    "        'year': str(row['year']),\n",
    "        'id': f\"{str(row['year'])}\\n_{index + 1}\",\n",
    "        'document': row['speech']\n",
    "    })\n",
    "    \n",
    "corpus_df = pd.DataFrame(corpus)"
   ]
  },
  {
   "cell_type": "code",
   "execution_count": 7,
   "id": "a00b0e81",
   "metadata": {},
   "outputs": [
    {
     "data": {
      "text/html": [
       "<div>\n",
       "<style scoped>\n",
       "    .dataframe tbody tr th:only-of-type {\n",
       "        vertical-align: middle;\n",
       "    }\n",
       "\n",
       "    .dataframe tbody tr th {\n",
       "        vertical-align: top;\n",
       "    }\n",
       "\n",
       "    .dataframe thead th {\n",
       "        text-align: right;\n",
       "    }\n",
       "</style>\n",
       "<table border=\"1\" class=\"dataframe\">\n",
       "  <thead>\n",
       "    <tr style=\"text-align: right;\">\n",
       "      <th></th>\n",
       "      <th>year</th>\n",
       "      <th>id</th>\n",
       "      <th>document</th>\n",
       "    </tr>\n",
       "  </thead>\n",
       "  <tbody>\n",
       "    <tr>\n",
       "      <th>0</th>\n",
       "      <td>2023</td>\n",
       "      <td>2023\\n_1</td>\n",
       "      <td>Your Excellency Mr. Chairman, Excellencies, la...</td>\n",
       "    </tr>\n",
       "    <tr>\n",
       "      <th>1</th>\n",
       "      <td>2023</td>\n",
       "      <td>2023\\n_2</td>\n",
       "      <td>Honourable Prime Minister, Excellencies, ladie...</td>\n",
       "    </tr>\n",
       "    <tr>\n",
       "      <th>2</th>\n",
       "      <td>2023</td>\n",
       "      <td>2023\\n_3</td>\n",
       "      <td>Your Highness, Excellencies, Distinguished gue...</td>\n",
       "    </tr>\n",
       "    <tr>\n",
       "      <th>3</th>\n",
       "      <td>2022</td>\n",
       "      <td>2022\\n_4</td>\n",
       "      <td>Madame President, distinguished delegates, Th...</td>\n",
       "    </tr>\n",
       "    <tr>\n",
       "      <th>4</th>\n",
       "      <td>2022</td>\n",
       "      <td>2022\\n_5</td>\n",
       "      <td>Excellencies, ladies and gentlemen,\\n\\n It is ...</td>\n",
       "    </tr>\n",
       "  </tbody>\n",
       "</table>\n",
       "</div>"
      ],
      "text/plain": [
       "   year        id                                           document\n",
       "0  2023  2023\\n_1  Your Excellency Mr. Chairman, Excellencies, la...\n",
       "1  2023  2023\\n_2  Honourable Prime Minister, Excellencies, ladie...\n",
       "2  2023  2023\\n_3  Your Highness, Excellencies, Distinguished gue...\n",
       "3  2022  2022\\n_4   Madame President, distinguished delegates, Th...\n",
       "4  2022  2022\\n_5  Excellencies, ladies and gentlemen,\\n\\n It is ..."
      ]
     },
     "execution_count": 7,
     "metadata": {},
     "output_type": "execute_result"
    }
   ],
   "source": [
    "# Printing\n",
    "corpus_df.head()"
   ]
  },
  {
   "cell_type": "code",
   "execution_count": null,
   "id": "c206061b",
   "metadata": {},
   "outputs": [],
   "source": []
  },
  {
   "cell_type": "markdown",
   "id": "23ad63bb",
   "metadata": {},
   "source": [
    "Lemmatization and Stopwords"
   ]
  },
  {
   "cell_type": "code",
   "execution_count": 8,
   "id": "6da9b8ab",
   "metadata": {},
   "outputs": [],
   "source": [
    "# Libraries for Lemmatization and Stopwords\n",
    "\n",
    "import pandas as pd\n",
    "import nltk\n",
    "from nltk.corpus import stopwords\n",
    "from nltk.tokenize import word_tokenize\n",
    "import spacy\n",
    "import re\n",
    "\n",
    "# Downloading the stopwords dataset\n",
    "# nltk.download('stopwords')\n",
    "# nltk.download('punkt')\n",
    "\n",
    "# Downloading the spaCy English model\n",
    "# spacy.cli.download(\"en_core_web_sm\")\n",
    "\n",
    "# Load spaCy English model\n",
    "nlp = spacy.load(\"en_core_web_sm\")"
   ]
  },
  {
   "cell_type": "code",
   "execution_count": 9,
   "id": "a68220d1",
   "metadata": {
    "scrolled": true
   },
   "outputs": [],
   "source": [
    "# Creating a function to remove stopwords, symbols and lemmatize\n",
    "\n",
    "def preprocess_text(text):\n",
    "    text = re.sub(r'[^a-zA-Z\\s]', '', text)\n",
    "    words = word_tokenize(text)\n",
    "    filtered_words = [word for word in words if word.lower() not in stopwords.words('english')]\n",
    "    lemmatized_words = [token.lemma_ for token in nlp(\" \".join(filtered_words))]\n",
    "    return lemmatized_words\n",
    "\n",
    "# Apply the function to the 'document' column\n",
    "corpus_df['document'] = corpus_df['document'].apply(preprocess_text)"
   ]
  },
  {
   "cell_type": "code",
   "execution_count": null,
   "id": "049200b0",
   "metadata": {},
   "outputs": [],
   "source": []
  },
  {
   "cell_type": "markdown",
   "id": "bb9aae9f",
   "metadata": {},
   "source": [
    "Topic Modeling: Latent Dirichlet Allocation (LDA) using gensim library"
   ]
  },
  {
   "cell_type": "code",
   "execution_count": 10,
   "id": "0952673c",
   "metadata": {},
   "outputs": [],
   "source": [
    "# Libraries for Topic Modeling\n",
    "\n",
    "from gensim import corpora, models\n",
    "\n",
    "nlp = spacy.load(\"en_core_web_sm\")"
   ]
  },
  {
   "cell_type": "code",
   "execution_count": 21,
   "id": "786de85f",
   "metadata": {},
   "outputs": [
    {
     "name": "stdout",
     "output_type": "stream",
     "text": [
      "Topic 0: 0.024*\"oil\" + 0.014*\"market\" + 0.012*\"OPEC\" + 0.012*\"demand\" + 0.011*\"price\" + 0.009*\"year\" + 0.009*\"growth\" + 0.008*\"world\" + 0.008*\"supply\" + 0.006*\"country\"\n",
      "Topic 1: 0.019*\"energy\" + 0.014*\"OPEC\" + 0.012*\"oil\" + 0.010*\"industry\" + 0.008*\"need\" + 0.007*\"global\" + 0.006*\"also\" + 0.006*\"world\" + 0.005*\"future\" + 0.005*\"year\"\n",
      "Topic 2: 0.017*\"OPEC\" + 0.014*\"oil\" + 0.012*\"market\" + 0.007*\"global\" + 0.007*\"year\" + 0.007*\"industry\" + 0.006*\"country\" + 0.006*\"also\" + 0.005*\"would\" + 0.005*\"Declaration\"\n",
      "Topic 3: 0.018*\"oil\" + 0.014*\"energy\" + 0.011*\"OPEC\" + 0.010*\"demand\" + 0.008*\"country\" + 0.008*\"need\" + 0.008*\"market\" + 0.007*\"price\" + 0.007*\"world\" + 0.007*\"supply\"\n",
      "Topic 4: 0.010*\"OPEC\" + 0.006*\"oil\" + 0.006*\"country\" + 0.005*\"market\" + 0.004*\"Countries\" + 0.004*\"work\" + 0.004*\"we\" + 0.004*\"would\" + 0.003*\"develop\" + 0.003*\"Organization\"\n",
      "Topic 4:\n",
      "  OPEC: 0.0102\n",
      "  oil: 0.0062\n",
      "  country: 0.0057\n",
      "  market: 0.0050\n",
      "  Countries: 0.0039\n",
      "\n",
      "Topic 1:\n",
      "  energy: 0.0190\n",
      "  OPEC: 0.0142\n",
      "  oil: 0.0119\n",
      "  industry: 0.0097\n",
      "  need: 0.0083\n",
      "\n",
      "Topic 2:\n",
      "  OPEC: 0.0173\n",
      "  oil: 0.0135\n",
      "  market: 0.0117\n",
      "  global: 0.0074\n",
      "  year: 0.0069\n",
      "\n",
      "Topic 0:\n",
      "  oil: 0.0244\n",
      "  market: 0.0140\n",
      "  OPEC: 0.0123\n",
      "  demand: 0.0120\n",
      "  price: 0.0112\n",
      "\n"
     ]
    }
   ],
   "source": [
    "# Topic Modeling\n",
    "\n",
    "# Creating a bag of words and applying it to each document\n",
    "bag_words = corpora.Dictionary(corpus_df['document'])\n",
    "corpus = [bag_words.doc2bow(doc) for doc in corpus_df['document']]\n",
    "\n",
    "# LDA model\n",
    "lda_model = models.LdaModel(corpus, num_topics = 5, id2word = bag_words, passes = 10)\n",
    "\n",
    "# Printing the topics\n",
    "for idx, topic in lda_model.print_topics():\n",
    "    print (f'Topic {idx}: {topic}')\n",
    "# Assigning topics to documents\n",
    "corpus_df['topic'] = [max(lda_model[doc], key=lambda x: x[1])[0] for doc in corpus]\n",
    "# Printing\n",
    "# print(corpus_df[['document', 'topic']])\n",
    "\n",
    "# Get the top terms for each topic\n",
    "top_terms_per_topic = lda_model.show_topics(num_topics= 4, num_words= 5, formatted= False)\n",
    "\n",
    "# Print the top 5 words and their probabilities for each topic\n",
    "for topic_id, topic_words in top_terms_per_topic:\n",
    "    print(f'Topic {topic_id}:')\n",
    "    for word, prob in topic_words:\n",
    "        print(f'  {word}: {prob:.4f}')\n",
    "    print()"
   ]
  },
  {
   "cell_type": "code",
   "execution_count": null,
   "id": "e885a84f",
   "metadata": {},
   "outputs": [],
   "source": []
  },
  {
   "cell_type": "markdown",
   "id": "98498ebe",
   "metadata": {},
   "source": [
    "Plotting with pyLDAvis: Python library for interactive topic model to visualize the results of the Latent Dirichlet Allocation (LDA)"
   ]
  },
  {
   "cell_type": "code",
   "execution_count": 12,
   "id": "b5178335",
   "metadata": {
    "scrolled": true
   },
   "outputs": [
    {
     "name": "stdout",
     "output_type": "stream",
     "text": [
      "Requirement already satisfied: pyLDAvis in /Users/fernandoprime/anaconda3/lib/python3.11/site-packages (3.4.1)\n",
      "Requirement already satisfied: numpy>=1.24.2 in /Users/fernandoprime/anaconda3/lib/python3.11/site-packages (from pyLDAvis) (1.24.3)\n",
      "Requirement already satisfied: scipy in /Users/fernandoprime/anaconda3/lib/python3.11/site-packages (from pyLDAvis) (1.10.1)\n",
      "Requirement already satisfied: pandas>=2.0.0 in /Users/fernandoprime/anaconda3/lib/python3.11/site-packages (from pyLDAvis) (2.1.3)\n",
      "Requirement already satisfied: joblib>=1.2.0 in /Users/fernandoprime/anaconda3/lib/python3.11/site-packages (from pyLDAvis) (1.2.0)\n",
      "Requirement already satisfied: jinja2 in /Users/fernandoprime/anaconda3/lib/python3.11/site-packages (from pyLDAvis) (3.1.2)\n",
      "Requirement already satisfied: numexpr in /Users/fernandoprime/anaconda3/lib/python3.11/site-packages (from pyLDAvis) (2.8.4)\n",
      "Requirement already satisfied: funcy in /Users/fernandoprime/anaconda3/lib/python3.11/site-packages (from pyLDAvis) (2.0)\n",
      "Requirement already satisfied: scikit-learn>=1.0.0 in /Users/fernandoprime/anaconda3/lib/python3.11/site-packages (from pyLDAvis) (1.3.0)\n",
      "Requirement already satisfied: gensim in /Users/fernandoprime/anaconda3/lib/python3.11/site-packages (from pyLDAvis) (4.3.0)\n",
      "Requirement already satisfied: setuptools in /Users/fernandoprime/anaconda3/lib/python3.11/site-packages (from pyLDAvis) (68.0.0)\n",
      "Requirement already satisfied: python-dateutil>=2.8.2 in /Users/fernandoprime/anaconda3/lib/python3.11/site-packages (from pandas>=2.0.0->pyLDAvis) (2.8.2)\n",
      "Requirement already satisfied: pytz>=2020.1 in /Users/fernandoprime/anaconda3/lib/python3.11/site-packages (from pandas>=2.0.0->pyLDAvis) (2022.7)\n",
      "Requirement already satisfied: tzdata>=2022.1 in /Users/fernandoprime/anaconda3/lib/python3.11/site-packages (from pandas>=2.0.0->pyLDAvis) (2023.3)\n",
      "Requirement already satisfied: threadpoolctl>=2.0.0 in /Users/fernandoprime/anaconda3/lib/python3.11/site-packages (from scikit-learn>=1.0.0->pyLDAvis) (2.2.0)\n",
      "Requirement already satisfied: smart-open>=1.8.1 in /Users/fernandoprime/anaconda3/lib/python3.11/site-packages (from gensim->pyLDAvis) (5.2.1)\n",
      "Requirement already satisfied: FuzzyTM>=0.4.0 in /Users/fernandoprime/anaconda3/lib/python3.11/site-packages (from gensim->pyLDAvis) (2.0.5)\n",
      "Requirement already satisfied: MarkupSafe>=2.0 in /Users/fernandoprime/anaconda3/lib/python3.11/site-packages (from jinja2->pyLDAvis) (2.1.1)\n",
      "Requirement already satisfied: pyfume in /Users/fernandoprime/anaconda3/lib/python3.11/site-packages (from FuzzyTM>=0.4.0->gensim->pyLDAvis) (0.2.25)\n",
      "Requirement already satisfied: six>=1.5 in /Users/fernandoprime/anaconda3/lib/python3.11/site-packages (from python-dateutil>=2.8.2->pandas>=2.0.0->pyLDAvis) (1.16.0)\n",
      "Requirement already satisfied: simpful in /Users/fernandoprime/anaconda3/lib/python3.11/site-packages (from pyfume->FuzzyTM>=0.4.0->gensim->pyLDAvis) (2.11.1)\n",
      "Requirement already satisfied: fst-pso in /Users/fernandoprime/anaconda3/lib/python3.11/site-packages (from pyfume->FuzzyTM>=0.4.0->gensim->pyLDAvis) (1.8.1)\n",
      "Requirement already satisfied: miniful in /Users/fernandoprime/anaconda3/lib/python3.11/site-packages (from fst-pso->pyfume->FuzzyTM>=0.4.0->gensim->pyLDAvis) (0.0.6)\n",
      "Note: you may need to restart the kernel to use updated packages.\n"
     ]
    }
   ],
   "source": [
    "# pip install pyLDAvis"
   ]
  },
  {
   "cell_type": "code",
   "execution_count": 15,
   "id": "aa6c12a8",
   "metadata": {},
   "outputs": [],
   "source": [
    "# Libraries for Plotting\n",
    "import pyLDAvis\n",
    "import pyLDAvis.gensim_models as gensimvis\n",
    "pyLDAvis.enable_notebook()\n",
    "import matplotlib.pyplot as plt"
   ]
  },
  {
   "cell_type": "code",
   "execution_count": 22,
   "id": "bd02f60f",
   "metadata": {},
   "outputs": [],
   "source": [
    "# Plotting\n",
    "vis_data = gensimvis.prepare(lda_model, corpus, bag_words, n_jobs=-1)\n",
    "pyLDAvis.display(vis_data)\n",
    "plt.show()"
   ]
  },
  {
   "cell_type": "code",
   "execution_count": 23,
   "id": "505acf34",
   "metadata": {},
   "outputs": [
    {
     "data": {
      "text/html": [
       "\n",
       "<link rel=\"stylesheet\" type=\"text/css\" href=\"https://cdn.jsdelivr.net/gh/bmabey/pyLDAvis@3.4.0/pyLDAvis/js/ldavis.v1.0.0.css\">\n",
       "\n",
       "\n",
       "<div id=\"ldavis_el48331110852057287019687529\" style=\"background-color:white;\"></div>\n",
       "<script type=\"text/javascript\">\n",
       "\n",
       "var ldavis_el48331110852057287019687529_data = {\"mdsDat\": {\"x\": [-0.04233273655460994, 0.09240174249493484, 0.07782972090525671, -0.012115088866689168, -0.11578363797889255], \"y\": [0.05856503897374152, -0.00978592406013288, -0.029846012668379357, 0.03389859519879506, -0.05283169744402433], \"topics\": [1, 2, 3, 4, 5], \"cluster\": [1, 1, 1, 1, 1], \"Freq\": [28.698760698656606, 27.766397055615826, 24.769482038946382, 16.436177724325567, 2.32918248245562]}, \"tinfo\": {\"Term\": [\"energy\", \"OPEC\", \"price\", \"work\", \"country\", \"develop\", \"Secretary\", \"General\", \"need\", \"would\", \"oil\", \"we\", \"great\", \"market\", \"Countries\", \"Organization\", \"Declaration\", \"Cooperation\", \"industry\", \"Minister\", \"make\", \"Energy\", \"demand\", \"climate\", \"cent\", \"Slide\", \"take\", \"Dr\", \"like\", \"supply\", \"Novak\", \"Azerbaijan\", \"committee\", \"JTC\", \"Aliyev\", \"Highlevel\", \"Alexander\", \"Baku\", \"Equatorial\", \"Ilham\", \"Shahbazov\", \"Monitoring\", \"Parviz\", \"Azerbaijans\", \"JMMC\", \"nd\", \"virus\", \"Federation\", \"vaccine\", \"Russian\", \"Pradhan\", \"Obiang\", \"Putin\", \"jmmc\", \"MOMR\", \"OPECIndia\", \"compensation\", \"Angolas\", \"Algerias\", \"Almarzooq\", \"conformity\", \"Committee\", \"voluntary\", \"adjustment\", \"DoC\", \"Minister\", \"leadership\", \"Excellency\", \"rebalancing\", \"AlFalih\", \"Declaration\", \"Cooperation\", \"President\", \"Ministerial\", \"delegate\", \"Meeting\", \"historic\", \"mb\", \"April\", \"covid\", \"participate\", \"Chairman\", \"th\", \"meeting\", \"OPEC\", \"market\", \"nonOPEC\", \"would\", \"thank\", \"like\", \"global\", \"Energy\", \"work\", \"Conference\", \"oil\", \"take\", \"industry\", \"year\", \"also\", \"cooperation\", \"country\", \"last\", \"great\", \"effort\", \"continue\", \"stability\", \"today\", \"Countries\", \"energy\", \"one\", \"Organization\", \"world\", \"demand\", \"see\", \"oecd\", \"refiner\", \"Asias\", \"Overinvestment\", \"betteroff\", \"Philippines\", \"diffusion\", \"receipt\", \"higherthanexpecte\", \"ceiling\", \"nervous\", \"IMFC\", \"dependant\", \"noncommercial\", \"separately\", \"supplychain\", \"psychological\", \"unstable\", \"SouthEast\", \"premium\", \"startingpoint\", \"nowinstitutionalise\", \"shorttomedium\", \"fourfold\", \"measured\", \"percent\", \"unusual\", \"sunny\", \"Northern\", \"comfortably\", \"overinvestment\", \"Asia\", \"Slides\", \"contrast\", \"USA\", \"nominal\", \"fourfifth\", \"b\", \"underinvestment\", \"price\", \"asian\", \"bd\", \"revenue\", \"cope\", \"cent\", \"slide\", \"average\", \"rise\", \"crude\", \"quarter\", \"growth\", \"per\", \"band\", \"steady\", \"demand\", \"likely\", \"oil\", \"supply\", \"although\", \"high\", \"region\", \"forecast\", \"market\", \"increase\", \"Slide\", \"economic\", \"mbd\", \"year\", \"production\", \"world\", \"barrel\", \"capacity\", \"level\", \"producer\", \"future\", \"OPEC\", \"see\", \"around\", \"investment\", \"country\", \"global\", \"economy\", \"expect\", \"well\", \"industry\", \"also\", \"energy\", \"flare\", \"Paper\", \"Millennium\", \"biofuel\", \"carbonconstraine\", \"CCS\", \"payback\", \"signify\", \"ownership\", \"CO\", \"GHG\", \"somewhere\", \"replacement\", \"stationary\", \"nonenergy\", \"Mechanism\", \"unused\", \"employee\", \"recoverable\", \"Clean\", \"legal\", \"Strategy\", \"construction\", \"Greenhouse\", \"inflate\", \"orchestrated\", \"LongTerm\", \"prospective\", \"reciprocal\", \"clarify\", \"pollution\", \"Johannesburg\", \"compete\", \"protection\", \"endowment\", \"competition\", \"security\", \"fossil\", \"waste\", \"eradication\", \"resource\", \"capture\", \"technology\", \"cost\", \"satisfy\", \"energy\", \"capacity\", \"develop\", \"need\", \"gas\", \"use\", \"billion\", \"concern\", \"example\", \"demand\", \"fuel\", \"supply\", \"Slide\", \"project\", \"oil\", \"price\", \"increase\", \"country\", \"investment\", \"development\", \"environmental\", \"future\", \"world\", \"per\", \"also\", \"issue\", \"OPEC\", \"market\", \"industry\", \"year\", \"level\", \"growth\", \"Countries\", \"challenge\", \"well\", \"continue\", \"global\", \"Ban\", \"Kimoon\", \"CSIS\", \"blue\", \"sdg\", \"Dundee\", \"GCC\", \"statistic\", \"lowemission\", \"Thomas\", \"battery\", \"dangerous\", \"Services\", \"App\", \"jodi\", \"civil\", \"phone\", \"COP\", \"projected\", \"Smart\", \"panacea\", \"Academy\", \"Bill\", \"onesizefitsall\", \"Jianhua\", \"Database\", \"narrative\", \"blight\", \"Thankyou\", \"broach\", \"Paris\", \"Dudley\", \"trilemma\", \"Hofburg\", \"globalization\", \"Agreement\", \"electric\", \"transition\", \"hydrogen\", \"UNFCCC\", \"believer\", \"solar\", \"JODI\", \"Climate\", \"climate\", \"WOO\", \"University\", \"solution\", \"access\", \"cook\", \"energy\", \"UN\", \"Outlook\", \"vehicle\", \"electricity\", \"wind\", \"emission\", \"Secretary\", \"sustainable\", \"General\", \"need\", \"industry\", \"renewable\", \"organization\", \"OPEC\", \"stakeholder\", \"global\", \"one\", \"challenge\", \"vital\", \"oil\", \"also\", \"future\", \"work\", \"change\", \"people\", \"technology\", \"world\", \"gentleman\", \"many\", \"Countries\", \"great\", \"investment\", \"year\", \"development\", \"well\", \"gas\", \"see\", \"country\", \"market\", \"around\", \"continue\", \"today\", \"develop\", \"cdm\", \"adp\", \"woe\", \"Nasser\", \"levy\", \"synchronous\", \"Kneissl\", \"selfless\", \"penalty\", \"Mabro\", \"Annex\", \"mischaracterize\", \"AdHoc\", \"Platform\", \"Cooperative\", \"AlAama\", \"desalination\", \"AlDossary\", \"wit\", \"onerous\", \"Adeeb\", \"factbased\", \"countriesexcellencie\", \"sigh\", \"painstaking\", \"beast\", \"teleconference\", \"Adaptation\", \"timelessness\", \"Ainsworth\", \"CDM\", \"Durban\", \"Ramadan\", \"consumerproducer\", \"Protocol\", \"Kyoto\", \"Convention\", \"Action\", \"transfer\", \"adaptation\", \"survive\", \"Arias\", \"financialization\", \"Atkinson\", \"Caete\", \"Miguel\", \"Jeddah\", \"Parties\", \"insurmountable\", \"Outlooks\", \"IEAIEFOPEC\", \"Sun\", \"bad\", \"Dr\", \"OPEC\", \"work\", \"principle\", \"Arabia\", \"we\", \"country\", \"Saudi\", \"negotiation\", \"Organization\", \"would\", \"cycle\", \"Countries\", \"great\", \"make\", \"develop\", \"oil\", \"market\", \"Secretary\", \"General\", \"Energy\", \"take\", \"impact\", \"interest\", \"today\", \"Petroleum\", \"also\", \"industry\", \"change\", \"like\", \"global\", \"year\", \"Member\", \"many\"], \"Freq\": [2434.0, 3601.0, 1389.0, 487.0, 1693.0, 833.0, 362.0, 362.0, 1328.0, 745.0, 4563.0, 615.0, 566.0, 2657.0, 1060.0, 620.0, 449.0, 445.0, 1729.0, 375.0, 713.0, 713.0, 1949.0, 267.0, 589.0, 401.0, 736.0, 177.0, 620.0, 1239.0, 83.07142493096785, 52.66215922187069, 32.477209799130165, 33.55969944688915, 18.60399954582136, 29.73213021510416, 72.29857346842888, 31.34790517166803, 33.14826339595748, 12.784654116737437, 12.776617559896351, 55.32698109595892, 10.83842831357463, 10.835742857714283, 106.15051434753023, 27.19203675976238, 19.6837024828269, 82.72530929204912, 25.252415637180693, 83.53322648644098, 18.03578790247867, 9.867237604067034, 17.068831188337775, 28.237821508774413, 10.70954954480795, 15.222362366210186, 19.385374751062358, 8.890988001993014, 14.24812850692642, 11.546042630985895, 121.62402296711267, 135.91902148357545, 76.29572043302143, 149.24774015284572, 134.8213039803723, 303.1342575158939, 123.5462898814952, 199.65756792316404, 91.05588392836275, 48.86374919810375, 343.6186052072789, 340.32554955017594, 203.50689154861118, 190.32632199509888, 90.82345552245646, 200.40532210151085, 130.72257634607217, 69.3015915211224, 112.70721771887207, 100.95091710118103, 142.93128382611178, 101.9098537674308, 276.88559058316457, 285.4065860519101, 1306.9870308371235, 888.5204564630691, 260.59744672715277, 343.86612499464303, 241.15386582091406, 295.16308492142775, 560.7657987431471, 322.44199837946564, 248.92705428267288, 192.3607176976175, 1022.9947026937782, 315.9219580841975, 516.6542014188055, 522.5285348584201, 465.61268399194734, 272.69985417898926, 475.60131190507866, 260.61604240838903, 250.93096785998324, 212.455024180298, 316.58742285116466, 272.1645415711291, 268.1598136967144, 289.1422400538914, 333.4798735187142, 253.72725820678872, 236.81342954963614, 275.4837121858773, 271.48069243748523, 249.29444225391487, 14.986311328363415, 12.978561935329818, 13.864779737968059, 10.884292118363186, 9.954393491743298, 8.12373027580485, 8.108663314518475, 8.08727226523749, 7.112075321848644, 27.677478124897807, 7.971804683518709, 7.065580124307513, 10.603401025614419, 7.031363603086619, 8.792808456681605, 6.999332667083595, 6.114901134458988, 6.10900511236332, 6.052286380753108, 6.923877533670182, 5.1419818849951255, 5.132141693522114, 12.048878406499945, 5.131219541610457, 5.131010832863707, 49.24345302151457, 13.748846288510999, 5.117403767964034, 5.110325772863816, 5.960957669340756, 14.326263527725473, 140.24612729654635, 10.92623405773544, 33.19319029036662, 32.11733929449575, 22.67896966036575, 37.37123485589192, 85.70979064193419, 28.331051695024343, 821.7881858204229, 57.5894432048398, 71.9127709671837, 112.04740333600434, 25.637788839727754, 357.78458295434547, 207.7584319349216, 199.33072162883857, 397.57571480091417, 378.2146647561413, 76.22420810773598, 644.8178889327023, 414.15618506573, 49.63562527538087, 83.48139457480534, 876.8275275921496, 55.679813543791994, 1783.8533196821163, 581.3805842403476, 123.20757114815105, 314.5876651098024, 180.18710350455672, 189.05622003192798, 1022.2278409111732, 438.2914008394092, 211.34835867859934, 361.73348874243203, 407.10629323716665, 674.6555047161365, 360.2051955178683, 600.4969424466867, 279.94433024244313, 331.02767864741816, 377.94622271419996, 355.12244751784976, 439.11451406169107, 898.8063816318638, 340.1468708470169, 289.621907786202, 364.2776909589278, 447.5711880305883, 430.1484203762384, 289.25836270553776, 281.33945876785646, 316.3343443519852, 383.4375968841805, 342.27927792808975, 374.6367664512558, 17.061171952698913, 12.354336117461202, 20.317887251876325, 34.40252144653828, 13.146756803071577, 42.65804324156163, 11.370784254395275, 9.565000713511392, 10.4263771887637, 66.37786597126976, 8.648612161921012, 7.710010464765255, 12.020635957197781, 10.284466492850004, 8.547982608643682, 11.819639975419005, 9.350592967434146, 9.324536015350336, 28.901180825479777, 16.609104589555127, 6.694017786596334, 26.153616717178444, 13.403526688156862, 6.649017275512439, 5.810925918062268, 5.802005798178086, 20.887101184914894, 6.634336907827002, 5.779012302419977, 5.7482362027311815, 13.977260287923393, 15.434569734828006, 16.83201022099352, 31.81696240782936, 9.789524039871544, 15.879062524098575, 275.1330839208519, 113.1607367915419, 23.493252349586147, 39.51331650674456, 228.42648698868163, 63.42022190201362, 237.34886765613703, 102.15869388823135, 36.58513861275144, 890.0204169376874, 335.40837770735357, 363.563405061876, 529.2820866536522, 290.2970958423566, 148.29493509681936, 209.0570534145136, 173.6119537133985, 117.61742075726677, 663.6819513835171, 189.95968895878957, 444.47373029763344, 183.51644903169634, 185.01478219591505, 1203.4173527436026, 477.65379113378555, 353.47093416361525, 543.7900686646203, 368.5540290421282, 320.44094374115605, 116.8897829113328, 395.77656498873984, 460.46518129775535, 272.41254472184244, 429.5716196692982, 201.89771893490345, 717.8439656116992, 501.5826204273483, 389.4157619589395, 361.22030648000725, 260.23921090282875, 280.7474865033709, 265.48635589202445, 236.70004185498777, 249.13059581592347, 252.934228785542, 273.0724046652178, 18.692742884277187, 13.37702298371666, 11.602878269296912, 8.79855176635707, 14.100691272724598, 7.830722550311599, 6.8830076976494095, 11.180061252786242, 6.824638791514994, 6.810715499459799, 7.655990876445128, 8.498797893084216, 5.863845915240999, 5.820238636008689, 4.9633882500299435, 4.950719938937304, 4.94645294063192, 49.65971392914248, 4.892469219106495, 4.891455338203295, 7.3577258354342305, 7.3595487409810465, 7.349042451335704, 4.859974288884419, 5.6562407998174375, 4.022467691589446, 8.921834263374377, 7.2697674911655845, 4.0067155058813855, 4.0011651619005795, 69.32387763244085, 5.604168859939141, 6.3801448311056355, 9.471365276832113, 10.199703027904649, 82.99735346717978, 23.976459824802117, 99.3923440801576, 17.45085759448796, 34.11255340828873, 11.114881663929369, 28.04716423192698, 33.154216916148876, 40.3699174826313, 148.93685945544942, 50.37012266037627, 14.818690401121172, 82.14612969474311, 125.54676758153985, 22.24681997519513, 823.4476740074331, 58.39677667094994, 99.11842919965122, 55.94392741035648, 42.16212610685764, 25.909130507137906, 89.71423345386523, 139.35985327234837, 185.03535121618125, 136.42739075485648, 357.759458951812, 420.83866729473493, 60.45959474114341, 66.8087722393965, 615.701229195876, 85.74574538667602, 317.81994636154633, 199.71077460425406, 183.92875930349044, 84.39859045319291, 515.5138965926816, 263.1694296873895, 230.3906128124177, 131.76958721757407, 118.58749410459185, 103.6360278522208, 129.33124051950523, 244.7929281384834, 132.45111688914918, 154.2787240573484, 185.88065495787944, 135.99747751751383, 177.11578219092485, 219.0338356165183, 158.83527187297085, 162.90875728261042, 141.87322400561925, 157.24140192763844, 191.9164238100863, 214.57019295108822, 145.09283322700574, 159.30870288311854, 144.42427316280663, 136.04681446874494, 3.6387583500075706, 2.587702950925829, 2.5009889180514913, 1.9711073840781426, 2.46015084074271, 1.961722460019164, 1.9360866269706163, 1.9026240391593878, 1.9014669349938158, 3.7827855726275015, 4.130495642354192, 1.357164831806777, 1.355611664659103, 1.3553401194480996, 1.3546741190884803, 1.3538583222423966, 1.3540675192437683, 1.3524835352876088, 1.3522603144052738, 1.3519642943956471, 1.3516020852408381, 1.351399140925246, 1.3500540095658704, 1.349954234565643, 1.3496544629445484, 1.3489729201945626, 1.3484731519526005, 1.3484340280044362, 1.3485340709769114, 1.347811171176697, 14.83024732975298, 2.5888002079560812, 2.5972600918159965, 2.5704349979321526, 12.560663881073726, 13.501265049912817, 11.625980254056529, 5.363867925289011, 7.965624412773262, 5.341169604019759, 2.9793429617552727, 1.9524922452711915, 2.461269892849109, 1.948883373687322, 1.941806226625543, 1.935034567926143, 4.881295641110087, 5.641382486082303, 1.9058225559079451, 4.309316738911929, 3.7706264212121585, 5.547816938778751, 7.5645399880458495, 15.216696182199964, 62.49876573018966, 23.254547333544195, 11.345240379289908, 11.706216861759442, 22.207176016923846, 34.72330934176364, 12.524662702835943, 8.12915679935884, 20.685263723036332, 22.105256524122304, 10.095334208671948, 24.217485239766308, 18.713859783004064, 20.07420267634449, 20.965960007650658, 38.19295683758116, 30.62029550394832, 14.897010292841495, 14.48245794024097, 17.681404873579734, 17.400417035159908, 14.660618753180373, 12.700565402968055, 16.863484972701386, 14.842225331928876, 19.316598683571307, 19.548208169148126, 13.682834469842973, 14.670753106292088, 16.713882140847627, 16.127771811491048, 14.560328531644851, 13.529737279879196], \"Total\": [2434.0, 3601.0, 1389.0, 487.0, 1693.0, 833.0, 362.0, 362.0, 1328.0, 745.0, 4563.0, 615.0, 566.0, 2657.0, 1060.0, 620.0, 449.0, 445.0, 1729.0, 375.0, 713.0, 713.0, 1949.0, 267.0, 589.0, 401.0, 736.0, 177.0, 620.0, 1239.0, 85.8514074701008, 54.42732593163352, 33.78685558971854, 34.951022879711935, 19.39969766626716, 31.065904182611817, 76.11008301514636, 33.010068750756695, 34.96813632820803, 13.555880836737375, 13.552108686455256, 58.76446456211224, 11.603437198746573, 11.603534512701302, 113.7415497019646, 29.14313623885597, 21.101857215744023, 88.89187858954355, 27.13587328317775, 89.78964377148847, 19.39259475864978, 10.633166937921441, 18.405913378291057, 30.531224363916138, 11.580854970971009, 16.475147442977065, 21.007584704920927, 9.659277883654095, 15.48383499986015, 12.551726456609295, 134.21676898345422, 153.3310197415021, 85.9055535089232, 174.71145514843036, 158.44215218602346, 375.5213415142815, 148.37116207511093, 249.53226456514318, 108.48104523755393, 56.36620500338314, 449.363401222723, 445.8079323350893, 259.9922749591773, 249.24513580635366, 111.74787932055003, 273.1052630163659, 171.31470971356796, 83.7455343421908, 150.0474730788618, 132.10925864368116, 200.09461409382325, 133.95181687050683, 446.6539112377037, 494.76035061834597, 3601.837373006752, 2657.5214062566274, 502.31439315801555, 745.325058479901, 458.4776622837659, 620.3100868184929, 1598.5204522869972, 713.4024734235031, 487.49976371568016, 338.4301480971804, 4563.972228549759, 736.6552547831108, 1729.8944357258088, 1793.5659534825734, 1519.9496099602961, 608.0529160233937, 1693.6023017521375, 599.9923674024172, 566.6709269387742, 421.9517220531304, 1031.6397247182838, 765.1298738247508, 802.2939900686722, 1060.290386019056, 2434.7619553479713, 883.4415080044248, 620.5735972983902, 1592.6264233830148, 1949.902518074262, 899.7392730525778, 15.868030105508987, 13.866935014238942, 14.862484051903063, 11.866203471428001, 10.86866983265773, 8.883859842329787, 8.882182961260503, 8.88098705369491, 7.882053505113714, 30.757148680143295, 8.871534003434897, 7.873493543045604, 11.849604907733534, 7.877022056547506, 9.860416355988331, 7.875594320814361, 6.883233315099218, 6.880028322191113, 6.877597032080781, 7.869585460665389, 5.88538397555522, 5.885231001055587, 13.81869826926648, 5.885082385670281, 5.885255958084341, 56.517460664313376, 15.80295690495428, 5.88273103348483, 5.883291919140181, 6.8720372199455255, 16.77152656101259, 176.9264480797785, 12.812527418179155, 40.544156156251375, 39.49434981805283, 27.636290719792296, 47.35151909893613, 115.08884178024084, 35.55268459333061, 1389.0778495964246, 77.60173691280698, 99.80541126314093, 164.38143373697406, 32.52611436294585, 589.4096546975576, 327.04808645403614, 312.44699280914756, 676.9196571522893, 640.5811888092973, 108.31806932471049, 1213.022142115443, 757.1538521598054, 68.8391116322609, 125.93510324046731, 1949.902518074262, 79.63509559634045, 4563.972228549759, 1239.4572628824935, 202.6481869212685, 611.4926987949616, 323.17320426979364, 344.63776938947467, 2657.5214062566274, 956.7411310773183, 401.24506490242027, 786.9612206581962, 934.3976129320266, 1793.5659534825734, 813.6865465074522, 1592.6264233830148, 598.0307785559706, 752.998006218306, 946.3358603397944, 915.0735037410724, 1261.414150374539, 3601.837373006752, 899.7392730525778, 713.7202709205177, 1064.9276683416113, 1693.6023017521375, 1598.5204522869972, 755.0610801448661, 718.2091486459647, 980.299645025065, 1729.8944357258088, 1519.9496099602961, 2434.7619553479713, 17.9685418196347, 13.212283444054131, 21.764555765778134, 36.990753265958524, 14.171251613349682, 45.993338676040686, 12.277128178701467, 10.37910811511652, 11.328509273999352, 72.13213027398255, 9.42294420948249, 8.479433397872532, 13.237110174802474, 11.336811230513408, 9.431154565708836, 13.046683470161796, 10.383152988359514, 10.386436846572476, 32.31259504589079, 18.600239344527473, 7.527782880720006, 29.422883704339355, 15.133009872508987, 7.5252248844247696, 6.582335769950832, 6.582974521347692, 23.712558006926955, 7.536296037556986, 6.582658682567472, 6.58482315367193, 16.08967636126938, 18.038217197379083, 19.920353503080634, 38.68084566298036, 11.348394081047946, 18.98530543067942, 396.67528304457863, 153.48585818088458, 29.87878706139236, 54.52438352074602, 432.3466013238297, 98.29551894620847, 476.8399804652818, 176.13730255690842, 51.74580216008535, 2434.7619553479713, 752.998006218306, 833.3418851194855, 1328.73521739323, 660.5105889452973, 292.1237637312667, 453.21007385003963, 359.7643671015147, 223.91060939410207, 1949.902518074262, 409.72098544465763, 1239.4572628824935, 401.24506490242027, 405.69197954481604, 4563.972228549759, 1389.0778495964246, 956.7411310773183, 1693.6023017521375, 1064.9276683416113, 880.104851161815, 225.9435425210346, 1261.414150374539, 1592.6264233830148, 757.1538521598054, 1519.9496099602961, 496.2686723791292, 3601.837373006752, 2657.5214062566274, 1729.8944357258088, 1793.5659534825734, 946.3358603397944, 1213.022142115443, 1060.290386019056, 782.6218261841399, 980.299645025065, 1031.6397247182838, 1598.5204522869972, 19.951824187338094, 14.317118671652484, 12.468390522184391, 9.572515025167984, 15.344792385251067, 8.612509673418712, 7.646356195235492, 12.46813294278191, 7.6463058531584664, 7.644899311679965, 8.606574870302198, 9.57672826236295, 6.6822394872461395, 6.682290525058676, 5.714451698343739, 5.717899683723998, 5.715839745479494, 57.76797268250499, 5.71620858698107, 5.717299700922793, 8.606434239648612, 8.616815861729691, 8.608924412709442, 5.715398823517788, 6.678794005465451, 4.752720634022586, 10.54201172691802, 8.605768920291673, 4.751927270595705, 4.75346890678416, 82.81326116891213, 6.678641427197363, 7.644756779165953, 11.51201269523201, 12.491498019432324, 114.40631891880408, 30.820483912234145, 143.088535303609, 22.149829893739017, 46.365426297098566, 13.74495852774789, 38.069810148063894, 46.58720617292304, 59.66416517797613, 267.34641695205625, 78.34042597487127, 19.213591113036124, 139.6434249251612, 229.31215592637574, 30.73492686668447, 2434.7619553479713, 102.71817585239636, 202.1464274008372, 101.51441756628084, 71.66915309231592, 40.27426358166929, 198.3067130433869, 362.4131747385269, 527.0192903827975, 362.6831006322964, 1328.73521739323, 1729.8944357258088, 127.02831808558535, 148.53485126049694, 3601.837373006752, 224.57479769078034, 1598.5204522869972, 883.4415080044248, 782.6218261841399, 225.1931423006427, 4563.972228549759, 1519.9496099602961, 1261.414150374539, 487.49976371568016, 406.5367827174065, 321.04111886218317, 476.8399804652818, 1592.6264233830148, 507.2250046319286, 706.2857707221439, 1060.290386019056, 566.6709269387742, 1064.9276683416113, 1793.5659534825734, 880.104851161815, 980.299645025065, 660.5105889452973, 899.7392730525778, 1693.6023017521375, 2657.5214062566274, 713.7202709205177, 1031.6397247182838, 802.2939900686722, 833.3418851194855, 4.730370821645167, 3.3909229263650644, 3.437561018107815, 2.767941123022439, 3.4557861230506273, 2.772152545979984, 2.784382455674071, 2.779524651997006, 2.802392639493487, 5.593918614258001, 6.372812709220619, 2.1444801325330474, 2.145097939601685, 2.145236177166919, 2.145537766905437, 2.145449375622701, 2.145809720950638, 2.146219605534758, 2.1458720686128143, 2.1463703258705316, 2.1465651060647737, 2.1463012931380026, 2.146053364733606, 2.1472965782347884, 2.1469398179377537, 2.1473830774864298, 2.146866756188265, 2.1474099727503364, 2.1475976395972944, 2.1477670133326514, 26.325992813385426, 4.3199282532258865, 4.347872376826684, 4.339155324041915, 28.55103242409981, 37.571708999033476, 36.88416668037005, 14.404786652433648, 27.22351874801633, 16.320530392937542, 7.018813985684951, 3.731800264520629, 5.346696051128676, 3.744279214352151, 3.7377915540575968, 3.741588493233035, 16.45044463776588, 22.979320425180767, 3.7671614018396156, 15.037987331973401, 12.433768186576062, 25.936292392209175, 47.31641244477657, 177.51281986082344, 3601.837373006752, 487.49976371568016, 119.20508624929636, 128.68812583191757, 615.1962921909718, 1693.6023017521375, 179.81248999884224, 69.09103855703113, 620.5735972983902, 745.325058479901, 115.47564366520501, 1060.290386019056, 566.6709269387742, 713.8689536258211, 833.3418851194855, 4563.972228549759, 2657.5214062566274, 362.4131747385269, 362.6831006322964, 713.4024734235031, 736.6552547831108, 452.29083095021514, 288.58023847344026, 802.2939900686722, 509.48526150288245, 1519.9496099602961, 1729.8944357258088, 406.5367827174065, 620.3100868184929, 1598.5204522869972, 1793.5659534825734, 757.5378402956113, 706.2857707221439], \"Category\": [\"Default\", \"Default\", \"Default\", \"Default\", \"Default\", \"Default\", \"Default\", \"Default\", \"Default\", \"Default\", \"Default\", \"Default\", \"Default\", \"Default\", \"Default\", \"Default\", \"Default\", \"Default\", \"Default\", \"Default\", \"Default\", \"Default\", \"Default\", \"Default\", \"Default\", \"Default\", \"Default\", \"Default\", \"Default\", \"Default\", \"Topic1\", \"Topic1\", \"Topic1\", \"Topic1\", \"Topic1\", \"Topic1\", \"Topic1\", \"Topic1\", \"Topic1\", \"Topic1\", \"Topic1\", \"Topic1\", \"Topic1\", \"Topic1\", \"Topic1\", \"Topic1\", \"Topic1\", \"Topic1\", \"Topic1\", \"Topic1\", \"Topic1\", \"Topic1\", \"Topic1\", \"Topic1\", \"Topic1\", \"Topic1\", \"Topic1\", \"Topic1\", \"Topic1\", \"Topic1\", \"Topic1\", \"Topic1\", \"Topic1\", \"Topic1\", \"Topic1\", \"Topic1\", \"Topic1\", \"Topic1\", \"Topic1\", \"Topic1\", \"Topic1\", \"Topic1\", \"Topic1\", \"Topic1\", \"Topic1\", \"Topic1\", \"Topic1\", \"Topic1\", \"Topic1\", \"Topic1\", \"Topic1\", \"Topic1\", \"Topic1\", \"Topic1\", \"Topic1\", \"Topic1\", \"Topic1\", \"Topic1\", \"Topic1\", \"Topic1\", \"Topic1\", \"Topic1\", \"Topic1\", \"Topic1\", \"Topic1\", \"Topic1\", \"Topic1\", \"Topic1\", \"Topic1\", \"Topic1\", \"Topic1\", \"Topic1\", \"Topic1\", \"Topic1\", \"Topic1\", \"Topic1\", \"Topic1\", \"Topic1\", \"Topic1\", \"Topic1\", \"Topic1\", \"Topic1\", \"Topic1\", \"Topic1\", \"Topic2\", \"Topic2\", \"Topic2\", \"Topic2\", \"Topic2\", \"Topic2\", \"Topic2\", \"Topic2\", \"Topic2\", \"Topic2\", \"Topic2\", \"Topic2\", \"Topic2\", \"Topic2\", \"Topic2\", \"Topic2\", \"Topic2\", \"Topic2\", \"Topic2\", \"Topic2\", \"Topic2\", \"Topic2\", \"Topic2\", \"Topic2\", \"Topic2\", \"Topic2\", \"Topic2\", \"Topic2\", \"Topic2\", \"Topic2\", \"Topic2\", \"Topic2\", \"Topic2\", \"Topic2\", \"Topic2\", \"Topic2\", \"Topic2\", \"Topic2\", \"Topic2\", \"Topic2\", \"Topic2\", \"Topic2\", \"Topic2\", \"Topic2\", \"Topic2\", \"Topic2\", \"Topic2\", \"Topic2\", \"Topic2\", \"Topic2\", \"Topic2\", \"Topic2\", \"Topic2\", \"Topic2\", \"Topic2\", \"Topic2\", \"Topic2\", \"Topic2\", \"Topic2\", \"Topic2\", \"Topic2\", \"Topic2\", \"Topic2\", \"Topic2\", \"Topic2\", \"Topic2\", \"Topic2\", \"Topic2\", \"Topic2\", \"Topic2\", \"Topic2\", \"Topic2\", \"Topic2\", \"Topic2\", \"Topic2\", \"Topic2\", \"Topic2\", \"Topic2\", \"Topic2\", \"Topic2\", \"Topic2\", \"Topic2\", \"Topic2\", \"Topic2\", \"Topic2\", \"Topic2\", \"Topic2\", \"Topic3\", \"Topic3\", \"Topic3\", \"Topic3\", \"Topic3\", \"Topic3\", \"Topic3\", \"Topic3\", \"Topic3\", \"Topic3\", \"Topic3\", \"Topic3\", \"Topic3\", \"Topic3\", \"Topic3\", \"Topic3\", \"Topic3\", \"Topic3\", \"Topic3\", \"Topic3\", \"Topic3\", \"Topic3\", \"Topic3\", \"Topic3\", \"Topic3\", \"Topic3\", \"Topic3\", \"Topic3\", \"Topic3\", \"Topic3\", \"Topic3\", \"Topic3\", \"Topic3\", \"Topic3\", \"Topic3\", \"Topic3\", \"Topic3\", \"Topic3\", \"Topic3\", \"Topic3\", \"Topic3\", \"Topic3\", \"Topic3\", \"Topic3\", \"Topic3\", \"Topic3\", \"Topic3\", \"Topic3\", \"Topic3\", \"Topic3\", \"Topic3\", \"Topic3\", \"Topic3\", \"Topic3\", \"Topic3\", \"Topic3\", \"Topic3\", \"Topic3\", \"Topic3\", \"Topic3\", \"Topic3\", \"Topic3\", \"Topic3\", \"Topic3\", \"Topic3\", \"Topic3\", \"Topic3\", \"Topic3\", \"Topic3\", \"Topic3\", \"Topic3\", \"Topic3\", \"Topic3\", \"Topic3\", \"Topic3\", \"Topic3\", \"Topic3\", \"Topic3\", \"Topic3\", \"Topic3\", \"Topic3\", \"Topic3\", \"Topic4\", \"Topic4\", \"Topic4\", \"Topic4\", \"Topic4\", \"Topic4\", \"Topic4\", \"Topic4\", \"Topic4\", \"Topic4\", \"Topic4\", \"Topic4\", \"Topic4\", \"Topic4\", \"Topic4\", \"Topic4\", \"Topic4\", \"Topic4\", \"Topic4\", \"Topic4\", \"Topic4\", \"Topic4\", \"Topic4\", \"Topic4\", \"Topic4\", \"Topic4\", \"Topic4\", \"Topic4\", \"Topic4\", \"Topic4\", \"Topic4\", \"Topic4\", \"Topic4\", \"Topic4\", \"Topic4\", \"Topic4\", \"Topic4\", \"Topic4\", \"Topic4\", \"Topic4\", \"Topic4\", \"Topic4\", \"Topic4\", \"Topic4\", \"Topic4\", \"Topic4\", \"Topic4\", \"Topic4\", \"Topic4\", \"Topic4\", \"Topic4\", \"Topic4\", \"Topic4\", \"Topic4\", \"Topic4\", \"Topic4\", \"Topic4\", \"Topic4\", \"Topic4\", \"Topic4\", \"Topic4\", \"Topic4\", \"Topic4\", \"Topic4\", \"Topic4\", \"Topic4\", \"Topic4\", \"Topic4\", \"Topic4\", \"Topic4\", \"Topic4\", \"Topic4\", \"Topic4\", \"Topic4\", \"Topic4\", \"Topic4\", \"Topic4\", \"Topic4\", \"Topic4\", \"Topic4\", \"Topic4\", \"Topic4\", \"Topic4\", \"Topic4\", \"Topic4\", \"Topic4\", \"Topic4\", \"Topic4\", \"Topic4\", \"Topic4\", \"Topic4\", \"Topic4\", \"Topic4\", \"Topic4\", \"Topic5\", \"Topic5\", \"Topic5\", \"Topic5\", \"Topic5\", \"Topic5\", \"Topic5\", \"Topic5\", \"Topic5\", \"Topic5\", \"Topic5\", \"Topic5\", \"Topic5\", \"Topic5\", \"Topic5\", \"Topic5\", \"Topic5\", \"Topic5\", \"Topic5\", \"Topic5\", \"Topic5\", \"Topic5\", \"Topic5\", \"Topic5\", \"Topic5\", \"Topic5\", \"Topic5\", \"Topic5\", \"Topic5\", \"Topic5\", \"Topic5\", \"Topic5\", \"Topic5\", \"Topic5\", \"Topic5\", \"Topic5\", \"Topic5\", \"Topic5\", \"Topic5\", \"Topic5\", \"Topic5\", \"Topic5\", \"Topic5\", \"Topic5\", \"Topic5\", \"Topic5\", \"Topic5\", \"Topic5\", \"Topic5\", \"Topic5\", \"Topic5\", \"Topic5\", \"Topic5\", \"Topic5\", \"Topic5\", \"Topic5\", \"Topic5\", \"Topic5\", \"Topic5\", \"Topic5\", \"Topic5\", \"Topic5\", \"Topic5\", \"Topic5\", \"Topic5\", \"Topic5\", \"Topic5\", \"Topic5\", \"Topic5\", \"Topic5\", \"Topic5\", \"Topic5\", \"Topic5\", \"Topic5\", \"Topic5\", \"Topic5\", \"Topic5\", \"Topic5\", \"Topic5\", \"Topic5\", \"Topic5\", \"Topic5\", \"Topic5\", \"Topic5\", \"Topic5\", \"Topic5\", \"Topic5\"], \"logprob\": [30.0, 29.0, 28.0, 27.0, 26.0, 25.0, 24.0, 23.0, 22.0, 21.0, 20.0, 19.0, 18.0, 17.0, 16.0, 15.0, 14.0, 13.0, 12.0, 11.0, 10.0, 9.0, 8.0, 7.0, 6.0, 5.0, 4.0, 3.0, 2.0, 1.0, -6.8139, -7.2697, -7.7531, -7.7203, -8.3103, -7.8414, -6.9528, -7.7885, -7.7327, -8.6854, -8.686, -7.2204, -8.8505, -8.8508, -6.5688, -7.9307, -8.2538, -6.8181, -8.0047, -6.8084, -8.3413, -8.9444, -8.3964, -7.893, -8.8625, -8.5109, -8.2691, -9.0486, -8.577, -8.7873, -6.4327, -6.3216, -6.899, -6.228, -6.3297, -5.5195, -6.417, -5.937, -6.7222, -7.3446, -5.3941, -5.4037, -5.9179, -5.9849, -6.7247, -5.9333, -6.3606, -6.9952, -6.5088, -6.619, -6.2713, -6.6096, -5.61, -5.5797, -4.0582, -4.4441, -5.6707, -5.3934, -5.7482, -5.5461, -4.9043, -5.4577, -5.7165, -5.9743, -4.3032, -5.4781, -4.9863, -4.975, -5.0903, -5.6253, -5.0691, -5.6706, -5.7085, -5.8749, -5.476, -5.6272, -5.6421, -5.5667, -5.4241, -5.6974, -5.7664, -5.6151, -5.6297, -5.715, -8.4935, -8.6373, -8.5713, -8.8133, -8.9026, -9.1058, -9.1077, -9.1103, -9.2388, -7.88, -9.1247, -9.2454, -8.8394, -9.2502, -9.0267, -9.2548, -9.3899, -9.3908, -9.4002, -9.2656, -9.5632, -9.5651, -8.7116, -9.5653, -9.5653, -7.3038, -8.5797, -9.568, -9.5693, -9.4154, -8.5385, -6.2572, -8.8094, -7.6983, -7.7312, -8.0792, -7.5797, -6.7496, -7.8567, -4.4891, -7.1473, -6.9252, -6.4817, -7.9565, -5.3207, -5.8642, -5.9056, -5.2152, -5.2652, -6.8669, -4.7316, -5.1744, -7.2959, -6.776, -4.4243, -7.181, -3.7141, -4.8352, -6.3867, -5.4494, -6.0066, -5.9586, -4.2709, -5.1177, -5.8471, -5.3097, -5.1915, -4.6864, -5.3139, -4.8029, -5.566, -5.3984, -5.2659, -5.3282, -5.1159, -4.3995, -5.3712, -5.532, -5.3027, -5.0968, -5.1365, -5.5333, -5.5611, -5.4438, -5.2514, -5.365, -5.2747, -8.2496, -8.5724, -8.0749, -7.5483, -8.5102, -7.3332, -8.6554, -8.8283, -8.7421, -6.891, -8.929, -9.0439, -8.5998, -8.7558, -8.9407, -8.6166, -8.851, -8.8537, -7.7225, -8.2764, -9.1852, -7.8224, -8.4909, -9.1919, -9.3267, -9.3282, -8.0473, -9.1941, -9.3322, -9.3375, -8.449, -8.3498, -8.2631, -7.6264, -8.8051, -8.3214, -5.4691, -6.3576, -7.9297, -7.4098, -5.6552, -6.9366, -5.6169, -6.4599, -7.4868, -4.2952, -5.271, -5.1904, -4.8149, -5.4155, -6.0872, -5.7438, -5.9296, -6.319, -4.5886, -5.8396, -4.9895, -5.8741, -5.866, -3.9935, -4.9175, -5.2186, -4.7878, -5.1768, -5.3167, -6.3252, -5.1055, -4.9542, -5.4791, -5.0236, -5.7786, -4.5101, -4.8686, -5.1218, -5.1969, -5.5248, -5.4489, -5.5048, -5.6196, -5.5684, -5.5533, -5.4767, -7.7481, -8.0827, -8.225, -8.5017, -8.03, -8.6182, -8.7472, -8.2621, -8.7557, -8.7578, -8.6408, -8.5363, -8.9075, -8.9149, -9.0742, -9.0767, -9.0776, -6.7711, -9.0886, -9.0888, -8.6805, -8.6803, -8.6817, -9.0952, -8.9435, -9.2844, -8.4878, -8.6925, -9.2883, -9.2897, -6.4375, -8.9528, -8.8231, -8.428, -8.3539, -6.2575, -7.4992, -6.0772, -7.8169, -7.1466, -8.268, -7.3424, -7.1751, -6.9782, -5.6727, -6.7569, -7.9804, -6.2678, -5.8436, -7.5741, -3.9628, -6.609, -6.08, -6.6519, -6.9347, -7.4217, -6.1796, -5.7392, -5.4557, -5.7605, -4.7964, -4.634, -6.5743, -6.4744, -4.2535, -6.2249, -4.9148, -5.3794, -5.4617, -6.2407, -4.4311, -5.1035, -5.2365, -5.7952, -5.9006, -6.0354, -5.8139, -5.1759, -5.7901, -5.6375, -5.4512, -5.7636, -5.4995, -5.287, -5.6084, -5.5831, -5.7213, -5.6185, -5.4192, -5.3076, -5.6989, -5.6054, -5.7035, -5.7633, -7.4307, -7.7715, -7.8056, -8.0437, -7.8221, -8.0485, -8.0616, -8.0791, -8.0797, -7.3918, -7.3039, -8.4169, -8.4181, -8.4183, -8.4187, -8.4193, -8.4192, -8.4204, -8.4205, -8.4207, -8.421, -8.4212, -8.4222, -8.4222, -8.4225, -8.423, -8.4233, -8.4234, -8.4233, -8.4238, -6.0256, -7.7711, -7.7678, -7.7782, -6.1917, -6.1195, -6.2691, -7.0426, -6.6472, -7.0469, -7.6306, -8.0532, -7.8216, -8.055, -8.0587, -8.0622, -7.1369, -6.9922, -8.0774, -7.2615, -7.3951, -7.0089, -6.6988, -5.9999, -4.5872, -5.5758, -6.2935, -6.2622, -5.6219, -5.1749, -6.1946, -6.6268, -5.6929, -5.6265, -6.4102, -5.5352, -5.793, -5.7229, -5.6794, -5.0797, -5.3006, -6.0211, -6.0494, -5.8498, -5.8658, -6.0371, -6.1807, -5.8972, -6.0248, -5.7613, -5.7494, -6.1062, -6.0364, -5.9061, -5.9418, -6.044, -6.1174], \"loglift\": [30.0, 29.0, 28.0, 27.0, 26.0, 25.0, 24.0, 23.0, 22.0, 21.0, 20.0, 19.0, 18.0, 17.0, 16.0, 15.0, 14.0, 13.0, 12.0, 11.0, 10.0, 9.0, 8.0, 7.0, 6.0, 5.0, 4.0, 3.0, 2.0, 1.0, 1.2154, 1.2153, 1.2088, 1.2077, 1.2064, 1.2044, 1.1969, 1.1967, 1.1949, 1.1897, 1.1894, 1.188, 1.1801, 1.1799, 1.1792, 1.179, 1.1787, 1.1764, 1.1764, 1.1761, 1.1758, 1.1736, 1.1729, 1.1702, 1.1701, 1.1692, 1.168, 1.1654, 1.1651, 1.1648, 1.1498, 1.1278, 1.1297, 1.0908, 1.0869, 1.0342, 1.0652, 1.0253, 1.0732, 1.1055, 0.98, 0.9783, 1.0034, 0.9786, 1.041, 0.9388, 0.9779, 1.059, 0.9622, 0.9793, 0.9119, 0.9749, 0.7701, 0.6982, 0.2346, 0.1527, 0.5921, 0.4747, 0.6058, 0.5056, 0.2008, 0.4542, 0.5762, 0.6834, -0.2471, 0.4017, 0.0399, 0.015, 0.0652, 0.4464, -0.0217, 0.4144, 0.4337, 0.5622, 0.067, 0.2147, 0.1524, -0.0511, -0.7397, 0.0008, 0.2849, -0.5063, -0.7233, -0.0352, 1.2242, 1.2151, 1.2119, 1.195, 1.1935, 1.1919, 1.1902, 1.1877, 1.1785, 1.1758, 1.1744, 1.1731, 1.1702, 1.1678, 1.1667, 1.1634, 1.163, 1.1625, 1.1535, 1.1533, 1.1463, 1.1444, 1.1443, 1.1443, 1.1442, 1.1436, 1.1421, 1.142, 1.1405, 1.1391, 1.1238, 1.049, 1.1221, 1.0813, 1.0746, 1.0837, 1.0446, 0.9866, 1.0543, 0.7564, 0.9831, 0.9536, 0.8981, 1.0434, 0.7822, 0.8276, 0.8319, 0.7492, 0.7544, 0.93, 0.6494, 0.678, 0.9543, 0.8702, 0.4821, 0.9235, 0.3419, 0.5243, 0.7837, 0.6167, 0.6972, 0.6809, 0.3259, 0.5007, 0.6403, 0.5041, 0.4505, 0.3036, 0.4664, 0.306, 0.5223, 0.4595, 0.3635, 0.3348, 0.2261, -0.1068, 0.3086, 0.3794, 0.2086, -0.0494, -0.0314, 0.3219, 0.3441, 0.1503, -0.2253, -0.2095, -0.5903, 1.3437, 1.3284, 1.3268, 1.323, 1.3205, 1.3203, 1.3189, 1.3139, 1.3126, 1.3124, 1.3098, 1.3004, 1.2992, 1.2981, 1.2972, 1.2968, 1.2908, 1.2877, 1.284, 1.2823, 1.2782, 1.2778, 1.2742, 1.2718, 1.2709, 1.2693, 1.2687, 1.2681, 1.2654, 1.2597, 1.2548, 1.2397, 1.2271, 1.2002, 1.2478, 1.2169, 1.0297, 1.0908, 1.1551, 1.0735, 0.7575, 0.9574, 0.6979, 0.8508, 1.0489, 0.3892, 0.5868, 0.5661, 0.4751, 0.5734, 0.7176, 0.6218, 0.6669, 0.7517, 0.3178, 0.6269, 0.37, 0.6133, 0.6104, 0.0625, 0.328, 0.3998, 0.2595, 0.3345, 0.3852, 0.7365, 0.2364, 0.1547, 0.3733, 0.1319, 0.4962, -0.2174, -0.2718, -0.0956, -0.2069, 0.1046, -0.0679, 0.0108, 0.1997, 0.0257, -0.0102, -0.3715, 1.7405, 1.7378, 1.7337, 1.7214, 1.7211, 1.7105, 1.7005, 1.6966, 1.692, 1.6901, 1.6886, 1.6863, 1.675, 1.6676, 1.6648, 1.6616, 1.6611, 1.6544, 1.6501, 1.6497, 1.6489, 1.648, 1.6475, 1.6436, 1.6395, 1.6389, 1.6388, 1.637, 1.6351, 1.6334, 1.6279, 1.6303, 1.6249, 1.6106, 1.603, 1.4847, 1.5546, 1.4413, 1.5672, 1.4988, 1.5933, 1.5002, 1.4655, 1.415, 1.2207, 1.364, 1.546, 1.2751, 1.2033, 1.4825, 0.7216, 1.241, 1.093, 1.2098, 1.2751, 1.3646, 1.0125, 0.85, 0.759, 0.8279, 0.4936, 0.3921, 1.0633, 1.0067, 0.0392, 0.8429, 0.1903, 0.3187, 0.3576, 0.8243, -0.3751, 0.0521, 0.1055, 0.4975, 0.5737, 0.675, 0.5009, -0.067, 0.4629, 0.2844, 0.0645, 0.3785, 0.0118, -0.297, 0.0935, 0.011, 0.2676, 0.0614, -0.3719, -0.7108, 0.2126, -0.0624, 0.091, -0.0068, 3.4973, 3.4893, 3.4416, 3.4201, 3.4198, 3.4139, 3.3963, 3.3806, 3.3718, 3.3684, 3.326, 3.3022, 3.3007, 3.3005, 3.2998, 3.2993, 3.2992, 3.2979, 3.2979, 3.2974, 3.2971, 3.297, 3.2962, 3.2955, 3.2955, 3.2947, 3.2946, 3.2943, 3.2943, 3.2937, 3.1858, 3.2476, 3.2444, 3.236, 2.9385, 2.7362, 2.6051, 2.7718, 2.5307, 2.6427, 2.9028, 3.1119, 2.9839, 3.1067, 3.1048, 3.1003, 2.5447, 2.3552, 3.0782, 2.5099, 2.5665, 2.2174, 1.9263, 1.303, -0.2944, 0.7169, 1.4076, 1.3624, 0.4381, -0.1275, 1.0954, 1.6197, 0.3584, 0.2416, 1.3227, -0.0196, 0.3491, 0.1884, 0.0771, -1.0236, -0.7038, 0.568, 0.5391, 0.0621, 0.014, 0.3305, 0.6363, -0.1027, 0.2237, -0.6058, -0.7233, 0.3681, 0.0153, -0.8009, -0.9518, -0.1921, -0.1955]}, \"token.table\": {\"Topic\": [1, 4, 1, 3, 5, 5, 5, 5, 1, 2, 3, 4, 5, 5, 5, 5, 1, 4, 5, 1, 4, 5, 1, 2, 1, 1, 1, 3, 4, 5, 4, 1, 2, 3, 4, 5, 1, 2, 3, 4, 5, 4, 5, 1, 2, 3, 4, 2, 1, 5, 1, 3, 1, 1, 3, 4, 5, 1, 4, 2, 3, 5, 3, 5, 1, 2, 3, 4, 1, 3, 4, 5, 4, 4, 5, 1, 2, 3, 4, 5, 3, 4, 5, 1, 2, 3, 4, 5, 1, 2, 3, 4, 5, 1, 2, 3, 4, 5, 1, 2, 3, 4, 5, 1, 2, 3, 4, 5, 5, 1, 2, 3, 4, 5, 4, 1, 2, 3, 4, 5, 1, 2, 3, 4, 5, 1, 2, 3, 4, 5, 4, 4, 2, 3, 5, 1, 2, 3, 4, 5, 1, 4, 1, 2, 3, 4, 5, 1, 2, 3, 4, 5, 4, 3, 1, 2, 3, 4, 5, 3, 1, 4, 2, 4, 1, 4, 5, 2, 1, 1, 2, 4, 5, 3, 4, 5, 1, 4, 1, 3, 5, 4, 2, 3, 4, 5, 2, 3, 4, 5, 1, 2, 3, 1, 3, 5, 3, 1, 2, 3, 4, 5, 1, 2, 3, 4, 5, 4, 5, 3, 4, 1, 2, 3, 4, 5, 1, 2, 3, 4, 5, 1, 2, 4, 5, 5, 2, 1, 5, 1, 2, 3, 4, 5, 1, 1, 1, 2, 3, 4, 5, 1, 2, 3, 4, 1, 2, 4, 5, 2, 3, 1, 2, 3, 4, 5, 1, 2, 3, 4, 5, 1, 1, 2, 3, 4, 5, 2, 5, 1, 4, 1, 2, 3, 4, 5, 3, 4, 5, 1, 4, 1, 5, 1, 2, 3, 4, 5, 1, 2, 3, 4, 5, 1, 2, 3, 4, 5, 4, 1, 1, 2, 3, 4, 5, 2, 3, 4, 2, 1, 2, 3, 1, 2, 4, 5, 4, 4, 1, 2, 3, 4, 5, 1, 2, 3, 4, 5, 2, 3, 1, 3, 4, 1, 2, 3, 4, 1, 2, 3, 4, 5, 1, 3, 4, 5, 1, 2, 3, 4, 5, 5, 1, 2, 3, 4, 5, 1, 2, 3, 4, 5, 1, 2, 3, 4, 5, 1, 2, 3, 4, 5, 1, 2, 3, 4, 5, 1, 2, 3, 4, 5, 1, 2, 3, 4, 5, 1, 2, 3, 1, 2, 3, 4, 5, 4, 1, 2, 3, 4, 5, 1, 4, 5, 2, 1, 2, 3, 4, 5, 1, 2, 3, 1, 4, 4, 4, 1, 2, 3, 4, 5, 1, 2, 3, 4, 5, 3, 5, 1, 2, 3, 1, 2, 3, 4, 5, 1, 2, 3, 4, 5, 1, 2, 3, 4, 5, 4, 3, 1, 2, 3, 4, 5, 2, 1, 5, 1, 5, 1, 2, 3, 1, 2, 3, 1, 2, 3, 4, 5, 1, 2, 3, 4, 5, 2, 3, 4, 3, 5, 1, 2, 3, 4, 5, 1, 2, 3, 1, 3, 4, 1, 2, 3, 4, 5, 2, 3, 1, 2, 3, 4, 5, 5, 1, 2, 3, 4, 5, 1, 2, 3, 4, 5, 1, 2, 3, 4, 5, 1, 2, 3, 4, 5, 1, 4, 1, 2, 3, 4, 5, 1, 2, 3, 4, 5, 2, 3, 5, 1, 2, 3, 4, 5, 1, 2, 3, 4, 5, 2, 1, 2, 3, 4, 5, 1, 2, 3, 4, 5, 1, 2, 3, 4, 5, 1, 3, 4, 1, 2, 3, 4, 5, 1, 2, 3, 4, 5, 2, 3, 2, 3, 1, 2, 3, 4, 5, 1, 2, 3, 4, 5, 1, 2, 3, 4, 5, 1, 2, 3, 4, 5, 1, 2, 3, 4, 5, 5, 3, 5, 3, 1, 2, 3, 4, 5, 1, 2, 3, 4, 5, 2, 3, 2, 1, 2, 3, 4, 5, 1, 2, 3, 4, 5, 1, 2, 3, 4, 5, 1, 2, 3, 4, 5, 1, 2, 3, 4, 5, 1, 2, 4, 1, 2, 3, 4, 5, 1, 2, 3, 4, 5, 1, 2, 3, 4, 5, 2, 1, 2, 3, 4, 5, 1, 2, 3, 4, 1, 2, 3, 4, 5, 1, 2, 3, 4, 5, 1, 2, 3, 4, 5, 3, 1, 5, 1, 2, 3, 4, 5, 1, 2, 3, 4, 5, 1, 2, 3, 4, 5, 1, 4, 5, 4, 1, 2, 3, 4, 5, 1, 2, 3, 4, 5, 3, 1, 2, 3, 4, 5, 5, 1, 2, 3, 4, 5, 1, 2, 3, 4, 4, 1, 2, 3, 4, 5, 1, 2, 3, 4, 5, 1, 2, 3, 4, 5, 1, 2, 4, 1, 2, 3, 4, 5, 2, 1, 2, 3, 4, 5, 5, 1, 4, 1, 2, 1, 2, 3, 4, 5, 1, 2, 3, 4, 5, 2, 2, 3, 1, 2, 3, 4, 5, 2, 3, 2, 2, 1, 2, 3, 4, 5, 1, 2, 3, 4, 5, 5, 4, 3, 1, 2, 3, 4, 5, 2, 3, 3, 5, 1, 4, 1, 2, 3, 4, 5, 3, 5, 1, 2, 3, 4, 5, 1, 2, 3, 4, 5, 1, 2, 3, 4, 1, 2, 3, 2, 1, 2, 3, 4, 5, 1, 2, 3, 4, 5, 1, 2, 3, 4, 5, 1, 2, 3, 4, 5, 1, 2, 3, 4, 5, 4, 3, 1, 2, 3, 4, 5, 2, 1, 2, 3, 4, 5, 1, 2, 3, 4, 5, 2, 3, 2, 3, 2, 1, 2, 3, 4, 5, 1, 2, 3, 4, 5, 2, 3, 1, 2, 3, 4, 5, 1, 2, 3, 4, 5, 1, 2, 3, 4, 5, 1, 2, 3, 4, 5, 1, 4, 1, 2, 3, 4, 5, 1, 2, 3, 4, 5, 5, 2, 2, 3, 5, 3, 1, 2, 3, 4, 5, 2, 3, 4, 5, 1, 2, 3, 4, 5, 3, 1, 2, 3, 4, 5, 1, 2, 3, 4, 5, 2, 2, 3, 1, 4, 1, 2, 3, 4, 2, 1, 2, 3, 4, 5, 2, 1, 3, 5, 1, 2, 3, 4, 5, 5, 1, 2, 3, 4, 5, 1, 2, 3, 4, 5, 5, 1, 2, 3, 4, 5, 1, 2, 3, 4, 5, 5, 1, 2, 3, 4, 5, 1, 3, 4, 5, 1, 2, 3, 4, 5, 1, 4, 1, 2, 3, 4, 2, 3, 2, 3, 1, 2, 3, 4, 5, 1, 4, 1, 2, 3, 4, 1, 5, 1, 2, 3, 4, 5, 1, 2, 4, 5, 2, 3, 4, 5, 1, 2, 3, 4, 5, 1, 2, 3, 4, 5, 1, 2, 3, 4, 5, 5, 5, 1, 2, 3, 4, 5, 1, 2, 3, 4, 5, 1, 2, 3, 4, 5, 1, 2, 3, 4, 5], \"Freq\": [0.1160521491983311, 0.8123650443883177, 0.4165282100159614, 0.13884273667198713, 0.3471068416799678, 0.46617918069777553, 0.465677263628999, 0.46586054957040957, 0.19229707072048824, 0.04370387970920187, 0.026222327825521124, 0.7254844031727511, 0.008740775941840376, 0.46559985035263113, 0.466102818068013, 0.46593554425705525, 0.8693152217194502, 0.01774112697386633, 0.08870563486933165, 0.945998179842631, 0.02627772721785086, 0.01313886360892543, 0.9041687669835314, 0.06458348335596653, 0.9793967064258859, 0.9560437794341212, 0.9317466697205432, 0.15691658387404545, 0.15691658387404545, 0.6276663354961818, 0.8978957106848202, 0.7530949884148304, 0.05998101677640242, 0.07331013161560296, 0.07331013161560296, 0.04665190193720188, 0.528409280657458, 0.15541449431101706, 0.12433159544881364, 0.10101942130216109, 0.09324869658661022, 0.26796718182034207, 0.5359343636406841, 0.02826033108258316, 0.7912892703123284, 0.16956198649549895, 0.011304132433033263, 0.9419690511430606, 0.26707409964697937, 0.5341481992939587, 0.9737755638881397, 0.018373123846946032, 0.9479870110231784, 0.9391074048971614, 0.03029378725474714, 0.9522938765698354, 0.050120730345780816, 0.11615852945853375, 0.8131097062097362, 0.04348455792886069, 0.9349179954705048, 0.021742278964430345, 0.37985272087879285, 0.5697790813181892, 0.027726894969042428, 0.027726894969042428, 0.9149875339784002, 0.027726894969042428, 0.08655314991717285, 0.01731062998343457, 0.8655314991717284, 0.03462125996686914, 0.9624337622926546, 0.26753765841073723, 0.5350753168214745, 0.7614678350992796, 0.04479222559407527, 0.0671883383911129, 0.08211908025580467, 0.04479222559407527, 0.9139667337131179, 0.05376274904194811, 0.05376274904194811, 0.1005628752552258, 0.016760479209204298, 0.11732335446443008, 0.670419168368172, 0.0838023960460215, 0.8869699049108253, 0.039131025216654056, 0.0065218375361090096, 0.052174700288872077, 0.019565512608327028, 0.5673253434409369, 0.2275211012757924, 0.07387048742720533, 0.10932832139226388, 0.017728916982529278, 0.027111904375277787, 0.054223808750555574, 0.18978333062694452, 0.4337904700044446, 0.32534285250333345, 0.7626602743901845, 0.03364677681133167, 0.017944947632710224, 0.17047700251074713, 0.015701829178621445, 0.4660836156905898, 0.2725668400003826, 0.2791688049830909, 0.24993153148824013, 0.1754236409691044, 0.022635308512142502, 0.8416232107912681, 0.7655274084715668, 0.015577592614246998, 0.015577592614246998, 0.19360722249135554, 0.011126851867319284, 0.8520459873676763, 0.006311451758279084, 0.006311451758279084, 0.11360613164902351, 0.025245807033116335, 0.43377148794307263, 0.03943377163118842, 0.0901343351570021, 0.34363715278607054, 0.08450093920968947, 0.8983863058684752, 0.928881395012056, 0.23148532600124888, 0.23148532600124888, 0.6944559780037467, 0.4513581211104779, 0.14998546260503456, 0.2018495945338783, 0.17241319533102106, 0.025231199316734787, 0.9437162933210033, 0.028597463433969794, 0.8014995589790265, 0.06812746251321725, 0.052097471333636715, 0.06411996471832211, 0.012022493384685397, 0.933718595185178, 0.022499243257474166, 0.011249621628737083, 0.03374886488621125, 0.011249621628737083, 0.9154687306303829, 0.955115492559441, 0.5349022318982695, 0.030329507994231775, 0.01930059599632931, 0.3749830079286838, 0.03860119199265862, 0.9302047589950638, 0.9656889374168474, 0.03218963124722825, 0.08686578328863165, 0.7817920495976848, 0.5629829907523488, 0.08042614153604984, 0.32170456614419934, 0.8890589624199118, 0.9589933812909524, 0.931937363942643, 0.008791861923987197, 0.026375585771961595, 0.03516744769594879, 0.2575814474784823, 0.7083489805658262, 0.021465120623206855, 0.9727898412877645, 0.02861146592022837, 0.12157726092147854, 0.5470976741466534, 0.30394315230369634, 0.8983657820693415, 0.11087570230003639, 0.8315677672502729, 0.9080039285935134, 0.7182921282686434, 0.02661577092555797, 0.42585233480892754, 0.1863103964789058, 0.3726207929578116, 0.04217174712689699, 0.04217174712689699, 0.8856066896648368, 0.9498435156620991, 0.17876556113118278, 0.7150622445247311, 0.9197739814447407, 0.7323183661532549, 0.09153979576915686, 0.09520138759992314, 0.06957024478455921, 0.007323183661532549, 0.2085704391193768, 0.34453724436808447, 0.2574128837232815, 0.17028852307847855, 0.01980099105563704, 0.2672661629702413, 0.5345323259404826, 0.9189252569743388, 0.045946262848716946, 0.8068782423341352, 0.045270396434588446, 0.05325928992304523, 0.0692370768999588, 0.023966680465370354, 0.7623017371444991, 0.10832708896263936, 0.044133258466260476, 0.07623017371444991, 0.00802422881204736, 0.9359397794200386, 0.017017086898546155, 0.017017086898546155, 0.017017086898546155, 0.7225587218474179, 0.849864339339247, 0.9667867125988139, 0.02329606536382684, 0.36287035327998135, 0.24959483366388924, 0.19934270363812287, 0.17102382373409986, 0.017213436804406155, 0.9104622615316331, 0.9404535881343727, 0.3819047426957215, 0.2143178513862066, 0.19014666513964193, 0.18047819064101608, 0.033839660745190514, 0.21766400012972859, 0.1236727273464367, 0.16324800009729643, 0.4897440002918893, 0.5319860845334399, 0.06649826056667998, 0.13299652113335997, 0.26599304226671994, 0.9270024761067273, 0.9082457283642601, 0.07245216424652026, 0.06037680353876688, 0.02415072141550675, 0.833199888834983, 0.012075360707753375, 0.2175869393648819, 0.08703477574595277, 0.04351738787297638, 0.4351738787297638, 0.2611043272378583, 0.947994961457476, 0.42788283876346567, 0.16290952118058555, 0.1786116437040155, 0.20020206217373165, 0.029441479731431124, 0.9005094792110098, 0.4661491404273436, 0.9281893539270379, 0.05156607521816878, 0.7846386975614221, 0.03846268125301089, 0.03846268125301089, 0.12692684813493593, 0.011538804375903267, 0.35025003129340576, 0.17512501564670288, 0.4553250406814275, 0.923616212388065, 0.05433036543459206, 0.229997551291939, 0.689992653875817, 0.9355199160136674, 0.022274283714611126, 0.011137141857305563, 0.03341142557191669, 0.011137141857305563, 0.5895029872545701, 0.12791102553636896, 0.1056656297909135, 0.11122697872727737, 0.07229753617273028, 0.5270227831474457, 0.027592815871594015, 0.01931497111011581, 0.3835401406151568, 0.041389223807391025, 0.8979025686600614, 0.9592603114962424, 0.0024922424908657564, 0.5258631655726747, 0.4585726183192992, 0.0024922424908657564, 0.009968969963463026, 0.8585347481397436, 0.07804861346724942, 0.8745387265937767, 0.8723977243814662, 0.033987151295184495, 0.06797430259036899, 0.8836659336747967, 0.26989208380850466, 0.03855601197264352, 0.5012281556443657, 0.2313360718358611, 0.8417637249524985, 0.9156431909188548, 0.1460306306602899, 0.06814762764146862, 0.17523675679234788, 0.5646517718864542, 0.048676876886763296, 0.04313558959178933, 0.021567794795894664, 0.08627117918357866, 0.7333050230604186, 0.10783897397947331, 0.8102424814542162, 0.1772405428181098, 0.1040929823182836, 0.0520464911591418, 0.7806973673871269, 0.2808256366522285, 0.05105920666404154, 0.02552960333202077, 0.6382400833005193, 0.10466082752152736, 0.02616520688038184, 0.31834335037797906, 0.5494693444880187, 0.004360867813396973, 0.18381755542076034, 0.06127251847358678, 0.42890762931510745, 0.3063625923679339, 0.8528347490060879, 0.022894892590767463, 0.011447446295383731, 0.08013212406768612, 0.034342338886151194, 0.8847148888800849, 0.3065891112088728, 0.22500745929921562, 0.28290411549316585, 0.17303205203419214, 0.01250041440551198, 0.10856253063121306, 0.6069632394381458, 0.231929042712137, 0.044411944349132614, 0.004934660483236957, 0.1891497348476376, 0.406321652635666, 0.19755638972975484, 0.203160826317833, 0.004203327441058614, 0.012886309505206, 0.747405951301948, 0.219067261588502, 0.012886309505206, 0.012886309505206, 0.1632276871717322, 0.6369080342583276, 0.1632276871717322, 0.028804885971482154, 0.006401085771440478, 0.11295621538031604, 0.7472488094390138, 0.12164515502495574, 0.01737787928927939, 0.008688939644639695, 0.48608926187807494, 0.16907452587063476, 0.12680589440297607, 0.06340294720148804, 0.16907452587063476, 0.014526625580847241, 0.726331279042362, 0.26147926045525033, 0.14882177170697303, 0.4682033267185668, 0.30600431710534903, 0.07190265374606562, 0.005016464214841788, 0.9295219202245899, 0.16031194899658663, 0.7214037704846398, 0.10019496812286664, 0.02003899362457333, 0.4656830960829435, 0.07275394814624078, 0.8002934296086486, 0.07275394814624078, 0.9200757916072133, 0.1434213486205682, 0.13238893718821682, 0.4611547978722886, 0.2581584275170228, 0.004412964572940561, 0.027033783086549627, 0.054067566173099255, 0.9191486249426873, 0.11620112151072112, 0.8134078505750478, 0.9401917862063698, 0.8414907257079546, 0.066401238233165, 0.4395761971035523, 0.4448882961622055, 0.0424967924692256, 0.0066401238233165, 0.040693614957045716, 0.040693614957045716, 0.6409244355734701, 0.25433509348153577, 0.020346807478522858, 0.9173501645933424, 0.8455996687821712, 0.03251276671967959, 0.9103574681510286, 0.03251276671967959, 0.01696612860054231, 0.6073874038994148, 0.3410191848709005, 0.03223564434103039, 0.0016966128600542313, 0.199329988994321, 0.24916248624290124, 0.302828252510603, 0.2351071665061222, 0.014055319736779044, 0.19678416173133817, 0.22384198396939717, 0.25335960822909787, 0.2927164405753655, 0.03443722830298418, 0.8744469606965124, 0.9111862019641618, 0.13465675138057284, 0.052366514425778325, 0.21694698833536735, 0.5573293321029265, 0.03740465316127023, 0.8731035365445186, 0.9471138832385962, 0.029597308851206133, 0.9044352440739816, 0.047601854951262186, 0.10039982471649939, 0.05019991235824969, 0.8533985100902447, 0.05267231563122729, 0.05267231563122729, 0.8427570500996366, 0.08616751083425872, 0.3891435973160071, 0.48364989952132315, 0.03613476260791495, 0.00555919424737153, 0.90897732767684, 0.029802535333666887, 0.007450633833416722, 0.04470380300050033, 0.014901267666833444, 0.06608070756741034, 0.8590491983763344, 0.06608070756741034, 0.23045959992704337, 0.6913787997811301, 0.3072778145360437, 0.28498320969588914, 0.2452406532417005, 0.15412357259063392, 0.008723975807017014, 0.07399340088466583, 0.8139274097313242, 0.0986578678462211, 0.1626813696901884, 0.09760882181411304, 0.7157980266368289, 0.448974082363412, 0.159525589704216, 0.1973512449949064, 0.1858390890368702, 0.008222968541454432, 0.7993577010114532, 0.1844671617718738, 0.01703216727206735, 0.33496595635065785, 0.5790936872502899, 0.062451279997580274, 0.005677389090689116, 0.46597163725429164, 0.28105771910415345, 0.2645249120980268, 0.3212088218333182, 0.11336781947058291, 0.020666008757658342, 0.76451871002026, 0.045416953070510496, 0.007569492178418416, 0.16652882792520515, 0.015138984356836832, 0.07649303609910942, 0.5900891356217012, 0.312216473873916, 0.01717190606306538, 0.00468324710810874, 0.2684548794538643, 0.3204138883804187, 0.060618843747646776, 0.2511352098116795, 0.08659834821092396, 0.10441979479882008, 0.8353583583905606, 0.8143331269756403, 0.06264100976735695, 0.017897431362101986, 0.08948715681050994, 0.017897431362101986, 0.13898130675149936, 0.4497660738784684, 0.3405298438486921, 0.06564430724794065, 0.005128461503745363, 0.928300992788456, 0.0843909993444051, 0.4660245455300572, 0.09239905178768214, 0.283197093790818, 0.4367955175417701, 0.16319832523538663, 0.025199741396640583, 0.13066624942265687, 0.3101903138468289, 0.3635930418717408, 0.1806602926800212, 0.01363473907019028, 0.9006794877894174, 0.1766287796033248, 0.4599972533554214, 0.2782856311735837, 0.07497192803306592, 0.010165685157025888, 0.3152062876215753, 0.3827504921119129, 0.16157633231021928, 0.1284664281482891, 0.011919565498294865, 0.5024271472775406, 0.15641599868074374, 0.17063563492444772, 0.15404605930679308, 0.016589575617654638, 0.16222976946884526, 0.03244595389376906, 0.7787028934504573, 0.0976710299755239, 0.06976502141108851, 0.2232480685154832, 0.5860261798531434, 0.0139530042822177, 0.0857257918257191, 0.020170774547228022, 0.42358626549178846, 0.4538424273126305, 0.020170774547228022, 0.09627940888409676, 0.8665146799568708, 0.08811819477348083, 0.8811819477348084, 0.1367690173031344, 0.15401916362965584, 0.3655388150143832, 0.3380207244458847, 0.005339331005828069, 0.04868472839393467, 0.21686833557298174, 0.517828474735487, 0.21244245117353314, 0.004425884399448607, 0.018340418275788653, 0.12838292793052059, 0.7336167310315461, 0.09170209137894327, 0.036680836551577306, 0.11165169916534788, 0.25456587409699316, 0.526996020060442, 0.09378742729889221, 0.01786427186645566, 0.17961341796216732, 0.391250933700535, 0.3091021611441949, 0.11417287033254046, 0.005569408308904413, 0.46591781088569756, 0.37406278211341454, 0.37406278211341454, 0.946097917718824, 0.23793097357049078, 0.5484018781075947, 0.11026069506925183, 0.09865430611459375, 0.002901597238664522, 0.013030516450857515, 0.10424413160686012, 0.7362241794734496, 0.14333568095943267, 0.006515258225428758, 0.7813899259006306, 0.1900678198136669, 0.8496057781917569, 0.10250878400680084, 0.19525482667962066, 0.46373021336409903, 0.23186510668204952, 0.004881370666990516, 0.15221012063563055, 0.34802209874500944, 0.313933373810988, 0.18233504034476575, 0.0031710441799089697, 0.13171628351775785, 0.21195723784466783, 0.4390542783925262, 0.21498519838530594, 0.0030279605406381116, 0.4179604673745122, 0.15377790780760356, 0.1478633728919265, 0.26023953628979063, 0.01774360474703118, 0.3509495291082322, 0.26899874780131877, 0.17078292592967448, 0.19893395767632413, 0.010634834215400976, 0.08005444971006327, 0.08005444971006327, 0.8005444971006328, 0.44293784640749573, 0.11117563475566626, 0.17293987628659196, 0.23999819566302558, 0.033529159688216806, 0.1574579666508862, 0.5317297826692231, 0.23165282004659177, 0.07501924065565783, 0.004121936299761419, 0.1880643877296079, 0.515132888128926, 0.2534780878094715, 0.035977535043924994, 0.008176712509982953, 0.8880934385257019, 0.7646745584137363, 0.03502326221742304, 0.02918605184785253, 0.14593025923926264, 0.02918605184785253, 0.04514707358013007, 0.09029414716026014, 0.04514707358013007, 0.7675002508622112, 0.23436247818092007, 0.27858181368675405, 0.2962695478890876, 0.1591896078210023, 0.03316450162937548, 0.07839111078620381, 0.45780408699143027, 0.36896082810039926, 0.08884325889103098, 0.005226074052413587, 0.2988621671489932, 0.2214007930716913, 0.22486921280649588, 0.2433674513921202, 0.011561399116015213, 0.9115305280217905, 0.2654518597243194, 0.5309037194486388, 0.3222673891045361, 0.25989305572946464, 0.23910161127110746, 0.13167914823626206, 0.04504812965977387, 0.13991560594160773, 0.3418072520989611, 0.34650240666076004, 0.16620847148768164, 0.0056341854741587, 0.13097743947524987, 0.2861353293151612, 0.40703758113846883, 0.16926315255263058, 0.006045112591165378, 0.9170939123257792, 0.03275335401163497, 0.03275335401163497, 0.8749745844293664, 0.4350055337036417, 0.2950037527415501, 0.15666865964805488, 0.10166795998437603, 0.013333502948770627, 0.8357419209079635, 0.006739854200870673, 0.013479708401741347, 0.11457752141480146, 0.026959416803482694, 0.9298886685385478, 0.25149633441402397, 0.39943535465756747, 0.27474389473800936, 0.06762926639704846, 0.006340243724723293, 0.5787395193989845, 0.47556860071875484, 0.14186453173983196, 0.16604598601366694, 0.19183953723909095, 0.02418145427383499, 0.07534366544134247, 0.7032075441191964, 0.20091644117691326, 0.012557277573557079, 0.9154747579327478, 0.2283332244274031, 0.25775038831068814, 0.301175725471728, 0.1863087045941387, 0.02801634655550958, 0.22653719872680933, 0.2619336360278733, 0.2746763534562563, 0.218042053774554, 0.019822004888595816, 0.33452223485651666, 0.38456886841772786, 0.18889781990772933, 0.08090245274932631, 0.011665004815019142, 0.8239245297314673, 0.11940935213499528, 0.04776374085399811, 0.2407968480291567, 0.4355747428794079, 0.2407968480291567, 0.0749145749424043, 0.008561665707703349, 0.8495807209764089, 0.576036458143443, 0.15158854161669552, 0.13339791662269204, 0.10914374996402076, 0.026275347213560556, 0.4663134830812379, 0.09485855507508074, 0.8537269956757266, 0.9264617156749736, 0.03431339687685087, 0.15804503203579345, 0.16481839055161315, 0.3981229616520702, 0.2694291498514955, 0.009783740078406261, 0.17368388506846097, 0.14473657089038414, 0.14473657089038414, 0.419736055582114, 0.11578925671230732, 0.9017606196293161, 0.8322390379085164, 0.1447372239840898, 0.5195949062082638, 0.3045901174324305, 0.08361297341282405, 0.08560375849408176, 0.005972355243773146, 0.888660708291592, 0.9542840102232563, 0.8495843237254731, 0.9452969209323828, 0.22414685032495626, 0.3908875669400997, 0.26358617882788116, 0.11305940837505125, 0.00832608046172858, 0.2875119605527159, 0.23883867589221672, 0.23431092848193774, 0.2263873705139495, 0.01358324223083697, 0.4659028257830656, 0.8748295883440266, 0.9114420814698302, 0.24236736156192762, 0.1346485342010709, 0.14138096091112445, 0.4510725895735875, 0.033662133550267724, 0.8347481041197924, 0.11924972915997034, 0.8827286766628261, 0.465779241525527, 0.11619213859709088, 0.8133449701796361, 0.714661914552823, 0.07996217225765852, 0.0349834503627256, 0.14493143721700605, 0.01999054306441463, 0.8959750065233458, 0.7136758681900786, 0.20246627668869813, 0.10902030283237592, 0.3488649690636029, 0.323946042701917, 0.018689194771264444, 0.050187950429894525, 0.5467845125783245, 0.35924006623503446, 0.0422635372041217, 0.0013207355376288032, 0.07077458811814073, 0.8669887044472241, 0.05308094108860555, 0.8747621036706579, 0.06215165411326558, 0.06215165411326558, 0.8701231575857181, 0.8895004743246204, 0.03887471102911106, 0.5917594901098017, 0.3441131828132423, 0.017277649346271583, 0.008638824673135792, 0.22650040236986427, 0.092277941706241, 0.26844492132724657, 0.3187783440761053, 0.092277941706241, 0.26227401298236036, 0.38794697753640806, 0.2141904439355943, 0.12567296455404767, 0.009835275486838513, 0.24702387038687398, 0.44243081263320716, 0.22367335527567694, 0.07865436669034793, 0.007373846877220119, 0.1405006824733229, 0.2760715164388099, 0.4560109869748199, 0.11338651568022548, 0.012324621269589726, 0.8747056591650157, 0.9288382469472583, 0.025852588868217365, 0.05170517773643473, 0.8272828437829557, 0.07755776660465209, 0.025852588868217365, 0.8716833681691804, 0.2123376103672209, 0.7016373212134256, 0.02769621004789838, 0.04616035007983063, 0.009232070015966126, 0.8388562241516608, 0.03687280106161147, 0.009218200265402867, 0.1106184031848344, 0.009218200265402867, 0.9008007726654238, 0.9114858128508929, 0.09284305379185297, 0.8974828533212453, 0.9374818578619752, 0.1454328495649755, 0.5569768706743743, 0.2351680120625136, 0.0587920030156284, 0.0030943159481909683, 0.0629780833169026, 0.11808390621919237, 0.3227626769991258, 0.4723356248767695, 0.01574452082922565, 0.07554518975777295, 0.9065422770932754, 0.07401469076434776, 0.2544254995024454, 0.5273546716959777, 0.13877754518315205, 0.004625918172771735, 0.042583884571786045, 0.6813421531485767, 0.2615867195124, 0.006083412081683721, 0.012166824163367443, 0.08863681142369538, 0.5879575157771794, 0.28511507674622016, 0.03693200475987307, 0.001477280190394923, 0.03865047823227524, 0.1739271520452386, 0.715033847297092, 0.03865047823227524, 0.03865047823227524, 0.06516868882248082, 0.9123616435147315, 0.057981933795999197, 0.16890389410138895, 0.6932622519086861, 0.07562860929912939, 0.002520953643304313, 0.2767468392873513, 0.3778872504325278, 0.1567120656205483, 0.17449499505266727, 0.013337197074089218, 0.7195474947714744, 0.9127403625846092, 0.8683885968252624, 0.07236571640210519, 0.46570185513081863, 0.9634739217559193, 0.009172963011424392, 0.6359921021254245, 0.34857259443412686, 0.0030576543371414635, 0.0030576543371414635, 0.07880259944381598, 0.15760519888763197, 0.7354909281422826, 0.02626753314793866, 0.2076717898858604, 0.02148328860888211, 0.1718663088710569, 0.5872098886427777, 0.014322192405921407, 0.9434592648616333, 0.3554952032395748, 0.33327675303710136, 0.16075702205319006, 0.14376644248659273, 0.006534838294845125, 0.39185162763084497, 0.09796290690771124, 0.1157743445272951, 0.382945908821053, 0.013358578214687897, 0.8495622410988581, 0.08820822537015227, 0.8820822537015227, 0.08020447043588215, 0.8822491747947037, 0.11116836878489424, 0.6590696149390158, 0.17469315094769094, 0.047643586622097535, 0.8499453691728763, 0.10649822624220182, 0.4687535564145398, 0.35822130645104244, 0.058896746330914636, 0.006454437954072837, 0.8888218101203793, 0.28494842634083917, 0.14247421317041958, 0.42742263951125875, 0.26754238900360827, 0.1650793464064817, 0.20872101269785043, 0.35103079408274845, 0.0075898550071945604, 0.721461018766909, 0.4289659212341302, 0.21041049933952588, 0.17511583493418606, 0.16154096400905535, 0.023077280572722195, 0.052428489690830825, 0.16777116701065864, 0.49702208226907624, 0.27053100680468706, 0.010485697938166165, 0.4657950928335615, 0.6201669637962356, 0.11194349527007862, 0.08283818649985818, 0.16567637299971635, 0.02014982914861415, 0.5256526540454172, 0.1286867493306208, 0.15486032546566234, 0.17449050756694345, 0.015267919412107553, 0.4656365706322505, 0.33404213831523355, 0.18821030927462784, 0.27670654741038003, 0.17948532804997622, 0.021189240117011083, 0.036732944380045145, 0.40406238818049656, 0.257130610660316, 0.29386355504036116, 0.20267172305920275, 0.083864161265877, 0.0139773602109795, 0.6918793304434853, 0.00698868010548975, 0.1308086089442731, 0.7848516536656387, 0.028127271159365325, 0.7875635924622291, 0.1125090846374613, 0.05625454231873065, 0.8720894332145938, 0.866788730753543, 0.8859101549287243, 0.06327929678062316, 0.09927299179493647, 0.25674049602138743, 0.5066345788155379, 0.13350505793112147, 0.003423206613618499, 0.9212896794995783, 0.03685158717998313, 0.11820980987419796, 0.14776226234274745, 0.17731471481129693, 0.5516457794129238, 0.9477838749225386, 0.04738919374612693, 0.3685725024840737, 0.11101581400122702, 0.13765960936152152, 0.3730131350441228, 0.004440632560049081, 0.8846925128316147, 0.01164069095831072, 0.08148483670817504, 0.01164069095831072, 0.06693712150665863, 0.7697768973265742, 0.10040568225998794, 0.03346856075332932, 0.36898791959808125, 0.2243186471565428, 0.17230272897531548, 0.19831068806592914, 0.03576094374959378, 0.24584319827417456, 0.3223504176541044, 0.25400396834136707, 0.16627569011904753, 0.011221058842389709, 0.04965950515629773, 0.09931901031259546, 0.17380826804704205, 0.6455735670318705, 0.04965950515629773, 0.4660110053282178, 0.8727117814628153, 0.510769478331936, 0.09846158618446958, 0.0717949065928424, 0.27076936200729135, 0.04717951004672501, 0.17267075063080536, 0.37673618319448443, 0.28883107378243805, 0.15383394147108115, 0.006906830025232215, 0.4615435856961417, 0.15563679052544313, 0.18783750580656927, 0.1663703622858185, 0.029517322341032316, 0.2915978634543598, 0.37634523485983334, 0.20127500708799975, 0.1221031206434126, 0.008920775937418272], \"Term\": [\"Academy\", \"Academy\", \"Action\", \"Action\", \"Action\", \"AdHoc\", \"Adaptation\", \"Adeeb\", \"Agreement\", \"Agreement\", \"Agreement\", \"Agreement\", \"Agreement\", \"Ainsworth\", \"AlAama\", \"AlDossary\", \"AlFalih\", \"AlFalih\", \"AlFalih\", \"Alexander\", \"Alexander\", \"Alexander\", \"Algerias\", \"Algerias\", \"Aliyev\", \"Almarzooq\", \"Angolas\", \"Annex\", \"Annex\", \"Annex\", \"App\", \"April\", \"April\", \"April\", \"April\", \"April\", \"Arabia\", \"Arabia\", \"Arabia\", \"Arabia\", \"Arabia\", \"Arias\", \"Arias\", \"Asia\", \"Asia\", \"Asia\", \"Asia\", \"Asias\", \"Atkinson\", \"Atkinson\", \"Azerbaijan\", \"Azerbaijan\", \"Azerbaijans\", \"Baku\", \"Baku\", \"Ban\", \"Ban\", \"Bill\", \"Bill\", \"CCS\", \"CCS\", \"CCS\", \"CDM\", \"CDM\", \"CO\", \"CO\", \"CO\", \"CO\", \"COP\", \"COP\", \"COP\", \"COP\", \"CSIS\", \"Caete\", \"Caete\", \"Chairman\", \"Chairman\", \"Chairman\", \"Chairman\", \"Chairman\", \"Clean\", \"Clean\", \"Clean\", \"Climate\", \"Climate\", \"Climate\", \"Climate\", \"Climate\", \"Committee\", \"Committee\", \"Committee\", \"Committee\", \"Committee\", \"Conference\", \"Conference\", \"Conference\", \"Conference\", \"Conference\", \"Convention\", \"Convention\", \"Convention\", \"Convention\", \"Convention\", \"Cooperation\", \"Cooperation\", \"Cooperation\", \"Cooperation\", \"Cooperation\", \"Cooperative\", \"Countries\", \"Countries\", \"Countries\", \"Countries\", \"Countries\", \"Database\", \"Declaration\", \"Declaration\", \"Declaration\", \"Declaration\", \"Declaration\", \"DoC\", \"DoC\", \"DoC\", \"DoC\", \"DoC\", \"Dr\", \"Dr\", \"Dr\", \"Dr\", \"Dr\", \"Dudley\", \"Dundee\", \"Durban\", \"Durban\", \"Durban\", \"Energy\", \"Energy\", \"Energy\", \"Energy\", \"Energy\", \"Equatorial\", \"Equatorial\", \"Excellency\", \"Excellency\", \"Excellency\", \"Excellency\", \"Excellency\", \"Federation\", \"Federation\", \"Federation\", \"Federation\", \"Federation\", \"GCC\", \"GHG\", \"General\", \"General\", \"General\", \"General\", \"General\", \"Greenhouse\", \"Highlevel\", \"Highlevel\", \"Hofburg\", \"Hofburg\", \"IEAIEFOPEC\", \"IEAIEFOPEC\", \"IEAIEFOPEC\", \"IMFC\", \"Ilham\", \"JMMC\", \"JMMC\", \"JMMC\", \"JMMC\", \"JODI\", \"JODI\", \"JODI\", \"JTC\", \"JTC\", \"Jeddah\", \"Jeddah\", \"Jeddah\", \"Jianhua\", \"Johannesburg\", \"Johannesburg\", \"Kimoon\", \"Kneissl\", \"Kyoto\", \"Kyoto\", \"Kyoto\", \"Kyoto\", \"LongTerm\", \"LongTerm\", \"LongTerm\", \"MOMR\", \"Mabro\", \"Mabro\", \"Mechanism\", \"Meeting\", \"Meeting\", \"Meeting\", \"Meeting\", \"Meeting\", \"Member\", \"Member\", \"Member\", \"Member\", \"Member\", \"Miguel\", \"Miguel\", \"Millennium\", \"Millennium\", \"Minister\", \"Minister\", \"Minister\", \"Minister\", \"Minister\", \"Ministerial\", \"Ministerial\", \"Ministerial\", \"Ministerial\", \"Ministerial\", \"Monitoring\", \"Monitoring\", \"Monitoring\", \"Monitoring\", \"Nasser\", \"Northern\", \"Novak\", \"Novak\", \"OPEC\", \"OPEC\", \"OPEC\", \"OPEC\", \"OPEC\", \"OPECIndia\", \"Obiang\", \"Organization\", \"Organization\", \"Organization\", \"Organization\", \"Organization\", \"Outlook\", \"Outlook\", \"Outlook\", \"Outlook\", \"Outlooks\", \"Outlooks\", \"Outlooks\", \"Outlooks\", \"Overinvestment\", \"Paper\", \"Paris\", \"Paris\", \"Paris\", \"Paris\", \"Paris\", \"Parties\", \"Parties\", \"Parties\", \"Parties\", \"Parties\", \"Parviz\", \"Petroleum\", \"Petroleum\", \"Petroleum\", \"Petroleum\", \"Petroleum\", \"Philippines\", \"Platform\", \"Pradhan\", \"Pradhan\", \"President\", \"President\", \"President\", \"President\", \"President\", \"Protocol\", \"Protocol\", \"Protocol\", \"Putin\", \"Putin\", \"Ramadan\", \"Ramadan\", \"Russian\", \"Russian\", \"Russian\", \"Russian\", \"Russian\", \"Saudi\", \"Saudi\", \"Saudi\", \"Saudi\", \"Saudi\", \"Secretary\", \"Secretary\", \"Secretary\", \"Secretary\", \"Secretary\", \"Services\", \"Shahbazov\", \"Slide\", \"Slide\", \"Slide\", \"Slide\", \"Slide\", \"Slides\", \"Slides\", \"Smart\", \"SouthEast\", \"Strategy\", \"Strategy\", \"Strategy\", \"Sun\", \"Sun\", \"Sun\", \"Sun\", \"Thankyou\", \"Thomas\", \"UN\", \"UN\", \"UN\", \"UN\", \"UN\", \"UNFCCC\", \"UNFCCC\", \"UNFCCC\", \"UNFCCC\", \"UNFCCC\", \"USA\", \"USA\", \"University\", \"University\", \"University\", \"WOO\", \"WOO\", \"WOO\", \"WOO\", \"access\", \"access\", \"access\", \"access\", \"access\", \"adaptation\", \"adaptation\", \"adaptation\", \"adaptation\", \"adjustment\", \"adjustment\", \"adjustment\", \"adjustment\", \"adjustment\", \"adp\", \"also\", \"also\", \"also\", \"also\", \"also\", \"although\", \"although\", \"although\", \"although\", \"although\", \"around\", \"around\", \"around\", \"around\", \"around\", \"asian\", \"asian\", \"asian\", \"asian\", \"asian\", \"average\", \"average\", \"average\", \"average\", \"average\", \"b\", \"b\", \"b\", \"b\", \"b\", \"bad\", \"bad\", \"bad\", \"bad\", \"bad\", \"band\", \"band\", \"band\", \"barrel\", \"barrel\", \"barrel\", \"barrel\", \"barrel\", \"battery\", \"bd\", \"bd\", \"bd\", \"bd\", \"beast\", \"believer\", \"believer\", \"believer\", \"betteroff\", \"billion\", \"billion\", \"billion\", \"billion\", \"billion\", \"biofuel\", \"biofuel\", \"biofuel\", \"blight\", \"blight\", \"blue\", \"broach\", \"capacity\", \"capacity\", \"capacity\", \"capacity\", \"capacity\", \"capture\", \"capture\", \"capture\", \"capture\", \"capture\", \"carbonconstraine\", \"cdm\", \"ceiling\", \"ceiling\", \"ceiling\", \"cent\", \"cent\", \"cent\", \"cent\", \"cent\", \"challenge\", \"challenge\", \"challenge\", \"challenge\", \"challenge\", \"change\", \"change\", \"change\", \"change\", \"change\", \"civil\", \"clarify\", \"climate\", \"climate\", \"climate\", \"climate\", \"climate\", \"comfortably\", \"committee\", \"committee\", \"compensation\", \"compensation\", \"compete\", \"compete\", \"compete\", \"competition\", \"competition\", \"competition\", \"concern\", \"concern\", \"concern\", \"concern\", \"concern\", \"conformity\", \"conformity\", \"conformity\", \"conformity\", \"conformity\", \"construction\", \"construction\", \"construction\", \"consumerproducer\", \"consumerproducer\", \"continue\", \"continue\", \"continue\", \"continue\", \"continue\", \"contrast\", \"contrast\", \"contrast\", \"cook\", \"cook\", \"cook\", \"cooperation\", \"cooperation\", \"cooperation\", \"cooperation\", \"cooperation\", \"cope\", \"cope\", \"cost\", \"cost\", \"cost\", \"cost\", \"cost\", \"countriesexcellencie\", \"country\", \"country\", \"country\", \"country\", \"country\", \"covid\", \"covid\", \"covid\", \"covid\", \"covid\", \"crude\", \"crude\", \"crude\", \"crude\", \"crude\", \"cycle\", \"cycle\", \"cycle\", \"cycle\", \"cycle\", \"dangerous\", \"dangerous\", \"delegate\", \"delegate\", \"delegate\", \"delegate\", \"delegate\", \"demand\", \"demand\", \"demand\", \"demand\", \"demand\", \"dependant\", \"dependant\", \"desalination\", \"develop\", \"develop\", \"develop\", \"develop\", \"develop\", \"development\", \"development\", \"development\", \"development\", \"development\", \"diffusion\", \"economic\", \"economic\", \"economic\", \"economic\", \"economic\", \"economy\", \"economy\", \"economy\", \"economy\", \"economy\", \"effort\", \"effort\", \"effort\", \"effort\", \"effort\", \"electric\", \"electric\", \"electric\", \"electricity\", \"electricity\", \"electricity\", \"electricity\", \"electricity\", \"emission\", \"emission\", \"emission\", \"emission\", \"emission\", \"employee\", \"employee\", \"endowment\", \"endowment\", \"energy\", \"energy\", \"energy\", \"energy\", \"energy\", \"environmental\", \"environmental\", \"environmental\", \"environmental\", \"environmental\", \"eradication\", \"eradication\", \"eradication\", \"eradication\", \"eradication\", \"example\", \"example\", \"example\", \"example\", \"example\", \"expect\", \"expect\", \"expect\", \"expect\", \"expect\", \"factbased\", \"financialization\", \"financialization\", \"flare\", \"forecast\", \"forecast\", \"forecast\", \"forecast\", \"forecast\", \"fossil\", \"fossil\", \"fossil\", \"fossil\", \"fossil\", \"fourfifth\", \"fourfifth\", \"fourfold\", \"fuel\", \"fuel\", \"fuel\", \"fuel\", \"fuel\", \"future\", \"future\", \"future\", \"future\", \"future\", \"gas\", \"gas\", \"gas\", \"gas\", \"gas\", \"gentleman\", \"gentleman\", \"gentleman\", \"gentleman\", \"gentleman\", \"global\", \"global\", \"global\", \"global\", \"global\", \"globalization\", \"globalization\", \"globalization\", \"great\", \"great\", \"great\", \"great\", \"great\", \"growth\", \"growth\", \"growth\", \"growth\", \"growth\", \"high\", \"high\", \"high\", \"high\", \"high\", \"higherthanexpecte\", \"historic\", \"historic\", \"historic\", \"historic\", \"historic\", \"hydrogen\", \"hydrogen\", \"hydrogen\", \"hydrogen\", \"impact\", \"impact\", \"impact\", \"impact\", \"impact\", \"increase\", \"increase\", \"increase\", \"increase\", \"increase\", \"industry\", \"industry\", \"industry\", \"industry\", \"industry\", \"inflate\", \"insurmountable\", \"insurmountable\", \"interest\", \"interest\", \"interest\", \"interest\", \"interest\", \"investment\", \"investment\", \"investment\", \"investment\", \"investment\", \"issue\", \"issue\", \"issue\", \"issue\", \"issue\", \"jmmc\", \"jmmc\", \"jmmc\", \"jodi\", \"last\", \"last\", \"last\", \"last\", \"last\", \"leadership\", \"leadership\", \"leadership\", \"leadership\", \"leadership\", \"legal\", \"level\", \"level\", \"level\", \"level\", \"level\", \"levy\", \"like\", \"like\", \"like\", \"like\", \"like\", \"likely\", \"likely\", \"likely\", \"likely\", \"lowemission\", \"make\", \"make\", \"make\", \"make\", \"make\", \"many\", \"many\", \"many\", \"many\", \"many\", \"market\", \"market\", \"market\", \"market\", \"market\", \"mb\", \"mb\", \"mb\", \"mbd\", \"mbd\", \"mbd\", \"mbd\", \"mbd\", \"measured\", \"meeting\", \"meeting\", \"meeting\", \"meeting\", \"meeting\", \"mischaracterize\", \"narrative\", \"narrative\", \"nd\", \"nd\", \"need\", \"need\", \"need\", \"need\", \"need\", \"negotiation\", \"negotiation\", \"negotiation\", \"negotiation\", \"negotiation\", \"nervous\", \"nominal\", \"nominal\", \"nonOPEC\", \"nonOPEC\", \"nonOPEC\", \"nonOPEC\", \"nonOPEC\", \"noncommercial\", \"nonenergy\", \"nowinstitutionalise\", \"oecd\", \"oil\", \"oil\", \"oil\", \"oil\", \"oil\", \"one\", \"one\", \"one\", \"one\", \"one\", \"onerous\", \"onesizefitsall\", \"orchestrated\", \"organization\", \"organization\", \"organization\", \"organization\", \"organization\", \"overinvestment\", \"overinvestment\", \"ownership\", \"painstaking\", \"panacea\", \"panacea\", \"participate\", \"participate\", \"participate\", \"participate\", \"participate\", \"payback\", \"penalty\", \"people\", \"people\", \"people\", \"people\", \"people\", \"per\", \"per\", \"per\", \"per\", \"per\", \"percent\", \"percent\", \"percent\", \"phone\", \"pollution\", \"pollution\", \"pollution\", \"premium\", \"price\", \"price\", \"price\", \"price\", \"price\", \"principle\", \"principle\", \"principle\", \"principle\", \"principle\", \"producer\", \"producer\", \"producer\", \"producer\", \"producer\", \"production\", \"production\", \"production\", \"production\", \"production\", \"project\", \"project\", \"project\", \"project\", \"project\", \"projected\", \"prospective\", \"protection\", \"protection\", \"protection\", \"protection\", \"protection\", \"psychological\", \"quarter\", \"quarter\", \"quarter\", \"quarter\", \"quarter\", \"rebalancing\", \"rebalancing\", \"rebalancing\", \"rebalancing\", \"rebalancing\", \"receipt\", \"reciprocal\", \"recoverable\", \"recoverable\", \"refiner\", \"region\", \"region\", \"region\", \"region\", \"region\", \"renewable\", \"renewable\", \"renewable\", \"renewable\", \"renewable\", \"replacement\", \"replacement\", \"resource\", \"resource\", \"resource\", \"resource\", \"resource\", \"revenue\", \"revenue\", \"revenue\", \"revenue\", \"revenue\", \"rise\", \"rise\", \"rise\", \"rise\", \"rise\", \"satisfy\", \"satisfy\", \"satisfy\", \"satisfy\", \"satisfy\", \"sdg\", \"sdg\", \"security\", \"security\", \"security\", \"security\", \"security\", \"see\", \"see\", \"see\", \"see\", \"see\", \"selfless\", \"separately\", \"shorttomedium\", \"shorttomedium\", \"sigh\", \"signify\", \"slide\", \"slide\", \"slide\", \"slide\", \"slide\", \"solar\", \"solar\", \"solar\", \"solar\", \"solution\", \"solution\", \"solution\", \"solution\", \"solution\", \"somewhere\", \"stability\", \"stability\", \"stability\", \"stability\", \"stability\", \"stakeholder\", \"stakeholder\", \"stakeholder\", \"stakeholder\", \"stakeholder\", \"startingpoint\", \"stationary\", \"stationary\", \"statistic\", \"statistic\", \"steady\", \"steady\", \"steady\", \"steady\", \"sunny\", \"supply\", \"supply\", \"supply\", \"supply\", \"supply\", \"supplychain\", \"survive\", \"survive\", \"survive\", \"sustainable\", \"sustainable\", \"sustainable\", \"sustainable\", \"sustainable\", \"synchronous\", \"take\", \"take\", \"take\", \"take\", \"take\", \"technology\", \"technology\", \"technology\", \"technology\", \"technology\", \"teleconference\", \"th\", \"th\", \"th\", \"th\", \"th\", \"thank\", \"thank\", \"thank\", \"thank\", \"thank\", \"timelessness\", \"today\", \"today\", \"today\", \"today\", \"today\", \"transfer\", \"transfer\", \"transfer\", \"transfer\", \"transition\", \"transition\", \"transition\", \"transition\", \"transition\", \"trilemma\", \"trilemma\", \"underinvestment\", \"underinvestment\", \"underinvestment\", \"underinvestment\", \"unstable\", \"unused\", \"unusual\", \"unusual\", \"use\", \"use\", \"use\", \"use\", \"use\", \"vaccine\", \"vaccine\", \"vehicle\", \"vehicle\", \"vehicle\", \"vehicle\", \"virus\", \"virus\", \"vital\", \"vital\", \"vital\", \"vital\", \"vital\", \"voluntary\", \"voluntary\", \"voluntary\", \"voluntary\", \"waste\", \"waste\", \"waste\", \"waste\", \"we\", \"we\", \"we\", \"we\", \"we\", \"well\", \"well\", \"well\", \"well\", \"well\", \"wind\", \"wind\", \"wind\", \"wind\", \"wind\", \"wit\", \"woe\", \"work\", \"work\", \"work\", \"work\", \"work\", \"world\", \"world\", \"world\", \"world\", \"world\", \"would\", \"would\", \"would\", \"would\", \"would\", \"year\", \"year\", \"year\", \"year\", \"year\"]}, \"R\": 30, \"lambda.step\": 0.01, \"plot.opts\": {\"xlab\": \"PC1\", \"ylab\": \"PC2\"}, \"topic.order\": [3, 1, 4, 2, 5]};\n",
       "\n",
       "function LDAvis_load_lib(url, callback){\n",
       "  var s = document.createElement('script');\n",
       "  s.src = url;\n",
       "  s.async = true;\n",
       "  s.onreadystatechange = s.onload = callback;\n",
       "  s.onerror = function(){console.warn(\"failed to load library \" + url);};\n",
       "  document.getElementsByTagName(\"head\")[0].appendChild(s);\n",
       "}\n",
       "\n",
       "if(typeof(LDAvis) !== \"undefined\"){\n",
       "   // already loaded: just create the visualization\n",
       "   !function(LDAvis){\n",
       "       new LDAvis(\"#\" + \"ldavis_el48331110852057287019687529\", ldavis_el48331110852057287019687529_data);\n",
       "   }(LDAvis);\n",
       "}else if(typeof define === \"function\" && define.amd){\n",
       "   // require.js is available: use it to load d3/LDAvis\n",
       "   require.config({paths: {d3: \"https://d3js.org/d3.v5\"}});\n",
       "   require([\"d3\"], function(d3){\n",
       "      window.d3 = d3;\n",
       "      LDAvis_load_lib(\"https://cdn.jsdelivr.net/gh/bmabey/pyLDAvis@3.4.0/pyLDAvis/js/ldavis.v3.0.0.js\", function(){\n",
       "        new LDAvis(\"#\" + \"ldavis_el48331110852057287019687529\", ldavis_el48331110852057287019687529_data);\n",
       "      });\n",
       "    });\n",
       "}else{\n",
       "    // require.js not available: dynamically load d3 & LDAvis\n",
       "    LDAvis_load_lib(\"https://d3js.org/d3.v5.js\", function(){\n",
       "         LDAvis_load_lib(\"https://cdn.jsdelivr.net/gh/bmabey/pyLDAvis@3.4.0/pyLDAvis/js/ldavis.v3.0.0.js\", function(){\n",
       "                 new LDAvis(\"#\" + \"ldavis_el48331110852057287019687529\", ldavis_el48331110852057287019687529_data);\n",
       "            })\n",
       "         });\n",
       "}\n",
       "</script>"
      ],
      "text/plain": [
       "<IPython.core.display.HTML object>"
      ]
     },
     "execution_count": 23,
     "metadata": {},
     "output_type": "execute_result"
    }
   ],
   "source": [
    "pyLDAvis.display(vis_data)"
   ]
  },
  {
   "cell_type": "code",
   "execution_count": null,
   "id": "da27d77f",
   "metadata": {},
   "outputs": [],
   "source": []
  },
  {
   "cell_type": "code",
   "execution_count": null,
   "id": "9d6ab96c",
   "metadata": {},
   "outputs": [],
   "source": []
  }
 ],
 "metadata": {
  "kernelspec": {
   "display_name": "Python 3 (ipykernel)",
   "language": "python",
   "name": "python3"
  },
  "language_info": {
   "codemirror_mode": {
    "name": "ipython",
    "version": 3
   },
   "file_extension": ".py",
   "mimetype": "text/x-python",
   "name": "python",
   "nbconvert_exporter": "python",
   "pygments_lexer": "ipython3",
   "version": "3.11.4"
  }
 },
 "nbformat": 4,
 "nbformat_minor": 5
}
